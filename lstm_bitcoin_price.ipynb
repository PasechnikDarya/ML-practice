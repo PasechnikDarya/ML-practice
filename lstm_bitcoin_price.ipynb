{
  "nbformat": 4,
  "nbformat_minor": 0,
  "metadata": {
    "colab": {
      "name": "Копия блокнота \"lstm_bitcoin_price.ipynb\"",
      "provenance": [],
      "authorship_tag": "ABX9TyONG9EgkG0Keq3lHYMIrslN",
      "include_colab_link": true
    },
    "kernelspec": {
      "name": "python3",
      "display_name": "Python 3"
    },
    "language_info": {
      "name": "python"
    },
    "accelerator": "GPU",
    "widgets": {
      "application/vnd.jupyter.widget-state+json": {
        "0d2533b7ec3d48039f1e17d51589ac0b": {
          "model_module": "@jupyter-widgets/controls",
          "model_name": "HBoxModel",
          "model_module_version": "1.5.0",
          "state": {
            "_view_name": "HBoxView",
            "_dom_classes": [],
            "_model_name": "HBoxModel",
            "_view_module": "@jupyter-widgets/controls",
            "_model_module_version": "1.5.0",
            "_view_count": null,
            "_view_module_version": "1.5.0",
            "box_style": "",
            "layout": "IPY_MODEL_84b9b848c23a409f9c1d8b951a0f4882",
            "_model_module": "@jupyter-widgets/controls",
            "children": [
              "IPY_MODEL_f0b57b96d1c44aa68577016af7873a12",
              "IPY_MODEL_ea84005594484346b26e801d443aadd5",
              "IPY_MODEL_bf260edc3cb84194bc15a5c77c495767"
            ]
          }
        },
        "84b9b848c23a409f9c1d8b951a0f4882": {
          "model_module": "@jupyter-widgets/base",
          "model_name": "LayoutModel",
          "model_module_version": "1.2.0",
          "state": {
            "_view_name": "LayoutView",
            "grid_template_rows": null,
            "right": null,
            "justify_content": null,
            "_view_module": "@jupyter-widgets/base",
            "overflow": null,
            "_model_module_version": "1.2.0",
            "_view_count": null,
            "flex_flow": null,
            "width": null,
            "min_width": null,
            "border": null,
            "align_items": null,
            "bottom": null,
            "_model_module": "@jupyter-widgets/base",
            "top": null,
            "grid_column": null,
            "overflow_y": null,
            "overflow_x": null,
            "grid_auto_flow": null,
            "grid_area": null,
            "grid_template_columns": null,
            "flex": null,
            "_model_name": "LayoutModel",
            "justify_items": null,
            "grid_row": null,
            "max_height": null,
            "align_content": null,
            "visibility": null,
            "align_self": null,
            "height": null,
            "min_height": null,
            "padding": null,
            "grid_auto_rows": null,
            "grid_gap": null,
            "max_width": null,
            "order": null,
            "_view_module_version": "1.2.0",
            "grid_template_areas": null,
            "object_position": null,
            "object_fit": null,
            "grid_auto_columns": null,
            "margin": null,
            "display": null,
            "left": null
          }
        },
        "f0b57b96d1c44aa68577016af7873a12": {
          "model_module": "@jupyter-widgets/controls",
          "model_name": "HTMLModel",
          "model_module_version": "1.5.0",
          "state": {
            "_view_name": "HTMLView",
            "style": "IPY_MODEL_67d484ac5c9f4cb2af283c74688b3a77",
            "_dom_classes": [],
            "description": "",
            "_model_name": "HTMLModel",
            "placeholder": "​",
            "_view_module": "@jupyter-widgets/controls",
            "_model_module_version": "1.5.0",
            "value": "100%",
            "_view_count": null,
            "_view_module_version": "1.5.0",
            "description_tooltip": null,
            "_model_module": "@jupyter-widgets/controls",
            "layout": "IPY_MODEL_897af4e7c792471b87ad4672e8ea1427"
          }
        },
        "ea84005594484346b26e801d443aadd5": {
          "model_module": "@jupyter-widgets/controls",
          "model_name": "FloatProgressModel",
          "model_module_version": "1.5.0",
          "state": {
            "_view_name": "ProgressView",
            "style": "IPY_MODEL_cb93b5f789d24aafa8fe01fd9b5d0352",
            "_dom_classes": [],
            "description": "",
            "_model_name": "FloatProgressModel",
            "bar_style": "success",
            "max": 322718,
            "_view_module": "@jupyter-widgets/controls",
            "_model_module_version": "1.5.0",
            "value": 322718,
            "_view_count": null,
            "_view_module_version": "1.5.0",
            "orientation": "horizontal",
            "min": 0,
            "description_tooltip": null,
            "_model_module": "@jupyter-widgets/controls",
            "layout": "IPY_MODEL_a1b48a8d7f024e45859c34b05fe710a1"
          }
        },
        "bf260edc3cb84194bc15a5c77c495767": {
          "model_module": "@jupyter-widgets/controls",
          "model_name": "HTMLModel",
          "model_module_version": "1.5.0",
          "state": {
            "_view_name": "HTMLView",
            "style": "IPY_MODEL_d6fb1217159f4ca5bbe5015390d662f5",
            "_dom_classes": [],
            "description": "",
            "_model_name": "HTMLModel",
            "placeholder": "​",
            "_view_module": "@jupyter-widgets/controls",
            "_model_module_version": "1.5.0",
            "value": " 322718/322718 [00:13&lt;00:00, 28277.58it/s]",
            "_view_count": null,
            "_view_module_version": "1.5.0",
            "description_tooltip": null,
            "_model_module": "@jupyter-widgets/controls",
            "layout": "IPY_MODEL_2d9f1636bfc84391b0103acb35740102"
          }
        },
        "67d484ac5c9f4cb2af283c74688b3a77": {
          "model_module": "@jupyter-widgets/controls",
          "model_name": "DescriptionStyleModel",
          "model_module_version": "1.5.0",
          "state": {
            "_view_name": "StyleView",
            "_model_name": "DescriptionStyleModel",
            "description_width": "",
            "_view_module": "@jupyter-widgets/base",
            "_model_module_version": "1.5.0",
            "_view_count": null,
            "_view_module_version": "1.2.0",
            "_model_module": "@jupyter-widgets/controls"
          }
        },
        "897af4e7c792471b87ad4672e8ea1427": {
          "model_module": "@jupyter-widgets/base",
          "model_name": "LayoutModel",
          "model_module_version": "1.2.0",
          "state": {
            "_view_name": "LayoutView",
            "grid_template_rows": null,
            "right": null,
            "justify_content": null,
            "_view_module": "@jupyter-widgets/base",
            "overflow": null,
            "_model_module_version": "1.2.0",
            "_view_count": null,
            "flex_flow": null,
            "width": null,
            "min_width": null,
            "border": null,
            "align_items": null,
            "bottom": null,
            "_model_module": "@jupyter-widgets/base",
            "top": null,
            "grid_column": null,
            "overflow_y": null,
            "overflow_x": null,
            "grid_auto_flow": null,
            "grid_area": null,
            "grid_template_columns": null,
            "flex": null,
            "_model_name": "LayoutModel",
            "justify_items": null,
            "grid_row": null,
            "max_height": null,
            "align_content": null,
            "visibility": null,
            "align_self": null,
            "height": null,
            "min_height": null,
            "padding": null,
            "grid_auto_rows": null,
            "grid_gap": null,
            "max_width": null,
            "order": null,
            "_view_module_version": "1.2.0",
            "grid_template_areas": null,
            "object_position": null,
            "object_fit": null,
            "grid_auto_columns": null,
            "margin": null,
            "display": null,
            "left": null
          }
        },
        "cb93b5f789d24aafa8fe01fd9b5d0352": {
          "model_module": "@jupyter-widgets/controls",
          "model_name": "ProgressStyleModel",
          "model_module_version": "1.5.0",
          "state": {
            "_view_name": "StyleView",
            "_model_name": "ProgressStyleModel",
            "description_width": "",
            "_view_module": "@jupyter-widgets/base",
            "_model_module_version": "1.5.0",
            "_view_count": null,
            "_view_module_version": "1.2.0",
            "bar_color": null,
            "_model_module": "@jupyter-widgets/controls"
          }
        },
        "a1b48a8d7f024e45859c34b05fe710a1": {
          "model_module": "@jupyter-widgets/base",
          "model_name": "LayoutModel",
          "model_module_version": "1.2.0",
          "state": {
            "_view_name": "LayoutView",
            "grid_template_rows": null,
            "right": null,
            "justify_content": null,
            "_view_module": "@jupyter-widgets/base",
            "overflow": null,
            "_model_module_version": "1.2.0",
            "_view_count": null,
            "flex_flow": null,
            "width": null,
            "min_width": null,
            "border": null,
            "align_items": null,
            "bottom": null,
            "_model_module": "@jupyter-widgets/base",
            "top": null,
            "grid_column": null,
            "overflow_y": null,
            "overflow_x": null,
            "grid_auto_flow": null,
            "grid_area": null,
            "grid_template_columns": null,
            "flex": null,
            "_model_name": "LayoutModel",
            "justify_items": null,
            "grid_row": null,
            "max_height": null,
            "align_content": null,
            "visibility": null,
            "align_self": null,
            "height": null,
            "min_height": null,
            "padding": null,
            "grid_auto_rows": null,
            "grid_gap": null,
            "max_width": null,
            "order": null,
            "_view_module_version": "1.2.0",
            "grid_template_areas": null,
            "object_position": null,
            "object_fit": null,
            "grid_auto_columns": null,
            "margin": null,
            "display": null,
            "left": null
          }
        },
        "d6fb1217159f4ca5bbe5015390d662f5": {
          "model_module": "@jupyter-widgets/controls",
          "model_name": "DescriptionStyleModel",
          "model_module_version": "1.5.0",
          "state": {
            "_view_name": "StyleView",
            "_model_name": "DescriptionStyleModel",
            "description_width": "",
            "_view_module": "@jupyter-widgets/base",
            "_model_module_version": "1.5.0",
            "_view_count": null,
            "_view_module_version": "1.2.0",
            "_model_module": "@jupyter-widgets/controls"
          }
        },
        "2d9f1636bfc84391b0103acb35740102": {
          "model_module": "@jupyter-widgets/base",
          "model_name": "LayoutModel",
          "model_module_version": "1.2.0",
          "state": {
            "_view_name": "LayoutView",
            "grid_template_rows": null,
            "right": null,
            "justify_content": null,
            "_view_module": "@jupyter-widgets/base",
            "overflow": null,
            "_model_module_version": "1.2.0",
            "_view_count": null,
            "flex_flow": null,
            "width": null,
            "min_width": null,
            "border": null,
            "align_items": null,
            "bottom": null,
            "_model_module": "@jupyter-widgets/base",
            "top": null,
            "grid_column": null,
            "overflow_y": null,
            "overflow_x": null,
            "grid_auto_flow": null,
            "grid_area": null,
            "grid_template_columns": null,
            "flex": null,
            "_model_name": "LayoutModel",
            "justify_items": null,
            "grid_row": null,
            "max_height": null,
            "align_content": null,
            "visibility": null,
            "align_self": null,
            "height": null,
            "min_height": null,
            "padding": null,
            "grid_auto_rows": null,
            "grid_gap": null,
            "max_width": null,
            "order": null,
            "_view_module_version": "1.2.0",
            "grid_template_areas": null,
            "object_position": null,
            "object_fit": null,
            "grid_auto_columns": null,
            "margin": null,
            "display": null,
            "left": null
          }
        },
        "d8d2f78743d448deab91f2046454b365": {
          "model_module": "@jupyter-widgets/controls",
          "model_name": "HBoxModel",
          "model_module_version": "1.5.0",
          "state": {
            "_view_name": "HBoxView",
            "_dom_classes": [],
            "_model_name": "HBoxModel",
            "_view_module": "@jupyter-widgets/controls",
            "_model_module_version": "1.5.0",
            "_view_count": null,
            "_view_module_version": "1.5.0",
            "box_style": "",
            "layout": "IPY_MODEL_df8714d00554410fb727b674fb79cd2d",
            "_model_module": "@jupyter-widgets/controls",
            "children": [
              "IPY_MODEL_fda52fc0aec448d5af9662fc96cadf4e",
              "IPY_MODEL_31cb9e9b437b40cb9d3393227473b092",
              "IPY_MODEL_6d8d1ea82dfc42de9fa5353b9a29e3f5"
            ]
          }
        },
        "df8714d00554410fb727b674fb79cd2d": {
          "model_module": "@jupyter-widgets/base",
          "model_name": "LayoutModel",
          "model_module_version": "1.2.0",
          "state": {
            "_view_name": "LayoutView",
            "grid_template_rows": null,
            "right": null,
            "justify_content": null,
            "_view_module": "@jupyter-widgets/base",
            "overflow": null,
            "_model_module_version": "1.2.0",
            "_view_count": null,
            "flex_flow": null,
            "width": null,
            "min_width": null,
            "border": null,
            "align_items": null,
            "bottom": null,
            "_model_module": "@jupyter-widgets/base",
            "top": null,
            "grid_column": null,
            "overflow_y": null,
            "overflow_x": null,
            "grid_auto_flow": null,
            "grid_area": null,
            "grid_template_columns": null,
            "flex": null,
            "_model_name": "LayoutModel",
            "justify_items": null,
            "grid_row": null,
            "max_height": null,
            "align_content": null,
            "visibility": null,
            "align_self": null,
            "height": null,
            "min_height": null,
            "padding": null,
            "grid_auto_rows": null,
            "grid_gap": null,
            "max_width": null,
            "order": null,
            "_view_module_version": "1.2.0",
            "grid_template_areas": null,
            "object_position": null,
            "object_fit": null,
            "grid_auto_columns": null,
            "margin": null,
            "display": null,
            "left": null
          }
        },
        "fda52fc0aec448d5af9662fc96cadf4e": {
          "model_module": "@jupyter-widgets/controls",
          "model_name": "HTMLModel",
          "model_module_version": "1.5.0",
          "state": {
            "_view_name": "HTMLView",
            "style": "IPY_MODEL_1e7deaa9c1824adebcd615b5fc69e016",
            "_dom_classes": [],
            "description": "",
            "_model_name": "HTMLModel",
            "placeholder": "​",
            "_view_module": "@jupyter-widgets/controls",
            "_model_module_version": "1.5.0",
            "value": "100%",
            "_view_count": null,
            "_view_module_version": "1.5.0",
            "description_tooltip": null,
            "_model_module": "@jupyter-widgets/controls",
            "layout": "IPY_MODEL_05193f6707d44270a251e418303b8018"
          }
        },
        "31cb9e9b437b40cb9d3393227473b092": {
          "model_module": "@jupyter-widgets/controls",
          "model_name": "FloatProgressModel",
          "model_module_version": "1.5.0",
          "state": {
            "_view_name": "ProgressView",
            "style": "IPY_MODEL_fa244543ea8c47d39c5f937b10816546",
            "_dom_classes": [],
            "description": "",
            "_model_name": "FloatProgressModel",
            "bar_style": "success",
            "max": 322718,
            "_view_module": "@jupyter-widgets/controls",
            "_model_module_version": "1.5.0",
            "value": 322718,
            "_view_count": null,
            "_view_module_version": "1.5.0",
            "orientation": "horizontal",
            "min": 0,
            "description_tooltip": null,
            "_model_module": "@jupyter-widgets/controls",
            "layout": "IPY_MODEL_67b6c83f4354459994b41edade2adf80"
          }
        },
        "6d8d1ea82dfc42de9fa5353b9a29e3f5": {
          "model_module": "@jupyter-widgets/controls",
          "model_name": "HTMLModel",
          "model_module_version": "1.5.0",
          "state": {
            "_view_name": "HTMLView",
            "style": "IPY_MODEL_fca9233d5b2945f5b6e01045da707cae",
            "_dom_classes": [],
            "description": "",
            "_model_name": "HTMLModel",
            "placeholder": "​",
            "_view_module": "@jupyter-widgets/controls",
            "_model_module_version": "1.5.0",
            "value": " 322718/322718 [00:56&lt;00:00, 5550.75it/s]",
            "_view_count": null,
            "_view_module_version": "1.5.0",
            "description_tooltip": null,
            "_model_module": "@jupyter-widgets/controls",
            "layout": "IPY_MODEL_3f086b7cf5614fb4bd873019a7597d3a"
          }
        },
        "1e7deaa9c1824adebcd615b5fc69e016": {
          "model_module": "@jupyter-widgets/controls",
          "model_name": "DescriptionStyleModel",
          "model_module_version": "1.5.0",
          "state": {
            "_view_name": "StyleView",
            "_model_name": "DescriptionStyleModel",
            "description_width": "",
            "_view_module": "@jupyter-widgets/base",
            "_model_module_version": "1.5.0",
            "_view_count": null,
            "_view_module_version": "1.2.0",
            "_model_module": "@jupyter-widgets/controls"
          }
        },
        "05193f6707d44270a251e418303b8018": {
          "model_module": "@jupyter-widgets/base",
          "model_name": "LayoutModel",
          "model_module_version": "1.2.0",
          "state": {
            "_view_name": "LayoutView",
            "grid_template_rows": null,
            "right": null,
            "justify_content": null,
            "_view_module": "@jupyter-widgets/base",
            "overflow": null,
            "_model_module_version": "1.2.0",
            "_view_count": null,
            "flex_flow": null,
            "width": null,
            "min_width": null,
            "border": null,
            "align_items": null,
            "bottom": null,
            "_model_module": "@jupyter-widgets/base",
            "top": null,
            "grid_column": null,
            "overflow_y": null,
            "overflow_x": null,
            "grid_auto_flow": null,
            "grid_area": null,
            "grid_template_columns": null,
            "flex": null,
            "_model_name": "LayoutModel",
            "justify_items": null,
            "grid_row": null,
            "max_height": null,
            "align_content": null,
            "visibility": null,
            "align_self": null,
            "height": null,
            "min_height": null,
            "padding": null,
            "grid_auto_rows": null,
            "grid_gap": null,
            "max_width": null,
            "order": null,
            "_view_module_version": "1.2.0",
            "grid_template_areas": null,
            "object_position": null,
            "object_fit": null,
            "grid_auto_columns": null,
            "margin": null,
            "display": null,
            "left": null
          }
        },
        "fa244543ea8c47d39c5f937b10816546": {
          "model_module": "@jupyter-widgets/controls",
          "model_name": "ProgressStyleModel",
          "model_module_version": "1.5.0",
          "state": {
            "_view_name": "StyleView",
            "_model_name": "ProgressStyleModel",
            "description_width": "",
            "_view_module": "@jupyter-widgets/base",
            "_model_module_version": "1.5.0",
            "_view_count": null,
            "_view_module_version": "1.2.0",
            "bar_color": null,
            "_model_module": "@jupyter-widgets/controls"
          }
        },
        "67b6c83f4354459994b41edade2adf80": {
          "model_module": "@jupyter-widgets/base",
          "model_name": "LayoutModel",
          "model_module_version": "1.2.0",
          "state": {
            "_view_name": "LayoutView",
            "grid_template_rows": null,
            "right": null,
            "justify_content": null,
            "_view_module": "@jupyter-widgets/base",
            "overflow": null,
            "_model_module_version": "1.2.0",
            "_view_count": null,
            "flex_flow": null,
            "width": null,
            "min_width": null,
            "border": null,
            "align_items": null,
            "bottom": null,
            "_model_module": "@jupyter-widgets/base",
            "top": null,
            "grid_column": null,
            "overflow_y": null,
            "overflow_x": null,
            "grid_auto_flow": null,
            "grid_area": null,
            "grid_template_columns": null,
            "flex": null,
            "_model_name": "LayoutModel",
            "justify_items": null,
            "grid_row": null,
            "max_height": null,
            "align_content": null,
            "visibility": null,
            "align_self": null,
            "height": null,
            "min_height": null,
            "padding": null,
            "grid_auto_rows": null,
            "grid_gap": null,
            "max_width": null,
            "order": null,
            "_view_module_version": "1.2.0",
            "grid_template_areas": null,
            "object_position": null,
            "object_fit": null,
            "grid_auto_columns": null,
            "margin": null,
            "display": null,
            "left": null
          }
        },
        "fca9233d5b2945f5b6e01045da707cae": {
          "model_module": "@jupyter-widgets/controls",
          "model_name": "DescriptionStyleModel",
          "model_module_version": "1.5.0",
          "state": {
            "_view_name": "StyleView",
            "_model_name": "DescriptionStyleModel",
            "description_width": "",
            "_view_module": "@jupyter-widgets/base",
            "_model_module_version": "1.5.0",
            "_view_count": null,
            "_view_module_version": "1.2.0",
            "_model_module": "@jupyter-widgets/controls"
          }
        },
        "3f086b7cf5614fb4bd873019a7597d3a": {
          "model_module": "@jupyter-widgets/base",
          "model_name": "LayoutModel",
          "model_module_version": "1.2.0",
          "state": {
            "_view_name": "LayoutView",
            "grid_template_rows": null,
            "right": null,
            "justify_content": null,
            "_view_module": "@jupyter-widgets/base",
            "overflow": null,
            "_model_module_version": "1.2.0",
            "_view_count": null,
            "flex_flow": null,
            "width": null,
            "min_width": null,
            "border": null,
            "align_items": null,
            "bottom": null,
            "_model_module": "@jupyter-widgets/base",
            "top": null,
            "grid_column": null,
            "overflow_y": null,
            "overflow_x": null,
            "grid_auto_flow": null,
            "grid_area": null,
            "grid_template_columns": null,
            "flex": null,
            "_model_name": "LayoutModel",
            "justify_items": null,
            "grid_row": null,
            "max_height": null,
            "align_content": null,
            "visibility": null,
            "align_self": null,
            "height": null,
            "min_height": null,
            "padding": null,
            "grid_auto_rows": null,
            "grid_gap": null,
            "max_width": null,
            "order": null,
            "_view_module_version": "1.2.0",
            "grid_template_areas": null,
            "object_position": null,
            "object_fit": null,
            "grid_auto_columns": null,
            "margin": null,
            "display": null,
            "left": null
          }
        }
      }
    }
  },
  "cells": [
    {
      "cell_type": "markdown",
      "metadata": {
        "id": "view-in-github",
        "colab_type": "text"
      },
      "source": [
        "<a href=\"https://colab.research.google.com/github/PasechnikDarya/ML-practice/blob/main/lstm_bitcoin_price.ipynb\" target=\"_parent\"><img src=\"https://colab.research.google.com/assets/colab-badge.svg\" alt=\"Open In Colab\"/></a>"
      ]
    },
    {
      "cell_type": "code",
      "metadata": {
        "colab": {
          "base_uri": "https://localhost:8080/"
        },
        "id": "YyNA92E5RiLK",
        "outputId": "6452049d-ec8f-4ad9-bcb1-f1258e359f6c"
      },
      "source": [
        "!pip install --quiet pytorch-lightning==1.2.5"
      ],
      "execution_count": null,
      "outputs": [
        {
          "output_type": "stream",
          "text": [
            "\u001b[K     |████████████████████████████████| 826 kB 8.7 MB/s \n",
            "\u001b[K     |████████████████████████████████| 118 kB 19.5 MB/s \n",
            "\u001b[K     |████████████████████████████████| 269 kB 46.8 MB/s \n",
            "\u001b[K     |████████████████████████████████| 272 kB 42.8 MB/s \n",
            "\u001b[K     |████████████████████████████████| 829 kB 38.2 MB/s \n",
            "\u001b[K     |████████████████████████████████| 1.3 MB 42.0 MB/s \n",
            "\u001b[K     |████████████████████████████████| 294 kB 40.9 MB/s \n",
            "\u001b[K     |████████████████████████████████| 142 kB 73.5 MB/s \n",
            "\u001b[?25h  Building wheel for future (setup.py) ... \u001b[?25l\u001b[?25hdone\n",
            "  Building wheel for PyYAML (setup.py) ... \u001b[?25l\u001b[?25hdone\n"
          ],
          "name": "stdout"
        }
      ]
    },
    {
      "cell_type": "code",
      "metadata": {
        "id": "IB1uFPC6TNJ_"
      },
      "source": [
        "import seaborn as sns\n",
        "import matplotlib.pyplot as plt\n",
        "\n",
        "import pandas as pd\n",
        "import numpy as np\n",
        "\n",
        "import pytorch_lightning as pl\n",
        "import torch\n",
        "import torch.autograd as autograd\n",
        "import torch.nn as nn\n",
        "import torch.nn.functional as F\n",
        "import torch.optim as optim\n",
        "\n",
        "from pylab import rcParams\n",
        "from matplotlib import rc\n",
        "from sklearn.preprocessing import MinMaxScaler\n",
        "from torch.utils.data import Dataset, DataLoader\n",
        "\n",
        "from tqdm.notebook import tqdm\n"
      ],
      "execution_count": null,
      "outputs": []
    },
    {
      "cell_type": "code",
      "metadata": {
        "id": "GjbaGI9wUpkz"
      },
      "source": [
        "%matplotlib inline\n",
        "%config InlineBackend.figure_format='retina'\n",
        "\n",
        "sns.set(style='whitegrid', font_scale=1.2)\n",
        "\n",
        "rcParams['figure.figsize'] = 12, 8\n",
        "\n",
        "tqdm.pandas()"
      ],
      "execution_count": null,
      "outputs": []
    },
    {
      "cell_type": "code",
      "metadata": {
        "colab": {
          "base_uri": "https://localhost:8080/"
        },
        "id": "vnkTQSlUVcM3",
        "outputId": "914c2cb0-bad2-425d-f5b6-d98d7be3af0c"
      },
      "source": [
        "pl.seed_everything(42)"
      ],
      "execution_count": null,
      "outputs": [
        {
          "output_type": "stream",
          "text": [
            "Global seed set to 42\n"
          ],
          "name": "stderr"
        },
        {
          "output_type": "execute_result",
          "data": {
            "text/plain": [
              "42"
            ]
          },
          "metadata": {},
          "execution_count": 4
        }
      ]
    },
    {
      "cell_type": "markdown",
      "metadata": {
        "id": "eM-mnJskWCtj"
      },
      "source": [
        "## Load data"
      ]
    },
    {
      "cell_type": "code",
      "metadata": {
        "id": "UtCveQgaWFno"
      },
      "source": [
        "df = pd.read_csv('Binance_BTCUSDT_minute.csv', skiprows=1, parse_dates=['date'])\n",
        "df = df.sort_values(by='date').reset_index(drop=True)"
      ],
      "execution_count": null,
      "outputs": []
    },
    {
      "cell_type": "code",
      "metadata": {
        "colab": {
          "base_uri": "https://localhost:8080/"
        },
        "id": "iBgYmNc9XjE7",
        "outputId": "c833c482-9b1e-437b-df22-2a20daf99aa2"
      },
      "source": [
        "df.shape"
      ],
      "execution_count": null,
      "outputs": [
        {
          "output_type": "execute_result",
          "data": {
            "text/plain": [
              "(322718, 10)"
            ]
          },
          "metadata": {},
          "execution_count": 15
        }
      ]
    },
    {
      "cell_type": "code",
      "metadata": {
        "colab": {
          "base_uri": "https://localhost:8080/",
          "height": 411
        },
        "id": "RTZIrskyYBWS",
        "outputId": "d8bde939-806c-4335-af27-83e540e2bd76"
      },
      "source": [
        "df"
      ],
      "execution_count": null,
      "outputs": [
        {
          "output_type": "execute_result",
          "data": {
            "text/html": [
              "<div>\n",
              "<style scoped>\n",
              "    .dataframe tbody tr th:only-of-type {\n",
              "        vertical-align: middle;\n",
              "    }\n",
              "\n",
              "    .dataframe tbody tr th {\n",
              "        vertical-align: top;\n",
              "    }\n",
              "\n",
              "    .dataframe thead th {\n",
              "        text-align: right;\n",
              "    }\n",
              "</style>\n",
              "<table border=\"1\" class=\"dataframe\">\n",
              "  <thead>\n",
              "    <tr style=\"text-align: right;\">\n",
              "      <th></th>\n",
              "      <th>unix</th>\n",
              "      <th>date</th>\n",
              "      <th>symbol</th>\n",
              "      <th>open</th>\n",
              "      <th>high</th>\n",
              "      <th>low</th>\n",
              "      <th>close</th>\n",
              "      <th>Volume BTC</th>\n",
              "      <th>Volume USDT</th>\n",
              "      <th>tradecount</th>\n",
              "    </tr>\n",
              "  </thead>\n",
              "  <tbody>\n",
              "    <tr>\n",
              "      <th>0</th>\n",
              "      <td>1610278800000</td>\n",
              "      <td>2021-01-10 11:40:00</td>\n",
              "      <td>BTC/USDT</td>\n",
              "      <td>39455.96</td>\n",
              "      <td>39471.03</td>\n",
              "      <td>39361.77</td>\n",
              "      <td>39419.97</td>\n",
              "      <td>120.857906</td>\n",
              "      <td>4.764110e+05</td>\n",
              "      <td>NaN</td>\n",
              "    </tr>\n",
              "    <tr>\n",
              "      <th>1</th>\n",
              "      <td>1610278860000</td>\n",
              "      <td>2021-01-10 11:41:00</td>\n",
              "      <td>BTC/USDT</td>\n",
              "      <td>39419.96</td>\n",
              "      <td>39419.97</td>\n",
              "      <td>39200.00</td>\n",
              "      <td>39335.77</td>\n",
              "      <td>186.719456</td>\n",
              "      <td>7.340855e+06</td>\n",
              "      <td>3100.0</td>\n",
              "    </tr>\n",
              "    <tr>\n",
              "      <th>2</th>\n",
              "      <td>1610278920000</td>\n",
              "      <td>2021-01-10 11:42:00</td>\n",
              "      <td>BTC/USDT</td>\n",
              "      <td>39336.00</td>\n",
              "      <td>39395.97</td>\n",
              "      <td>39133.17</td>\n",
              "      <td>39155.81</td>\n",
              "      <td>165.719334</td>\n",
              "      <td>6.503835e+06</td>\n",
              "      <td>2750.0</td>\n",
              "    </tr>\n",
              "    <tr>\n",
              "      <th>3</th>\n",
              "      <td>1610278980000</td>\n",
              "      <td>2021-01-10 11:43:00</td>\n",
              "      <td>BTC/USDT</td>\n",
              "      <td>39181.89</td>\n",
              "      <td>39182.77</td>\n",
              "      <td>38888.00</td>\n",
              "      <td>39072.08</td>\n",
              "      <td>653.444303</td>\n",
              "      <td>2.548905e+07</td>\n",
              "      <td>9243.0</td>\n",
              "    </tr>\n",
              "    <tr>\n",
              "      <th>4</th>\n",
              "      <td>1610279040000</td>\n",
              "      <td>2021-01-10 11:44:00</td>\n",
              "      <td>BTC/USDT</td>\n",
              "      <td>39046.42</td>\n",
              "      <td>39303.10</td>\n",
              "      <td>39031.03</td>\n",
              "      <td>39294.34</td>\n",
              "      <td>233.590502</td>\n",
              "      <td>9.151271e+06</td>\n",
              "      <td>3408.0</td>\n",
              "    </tr>\n",
              "    <tr>\n",
              "      <th>...</th>\n",
              "      <td>...</td>\n",
              "      <td>...</td>\n",
              "      <td>...</td>\n",
              "      <td>...</td>\n",
              "      <td>...</td>\n",
              "      <td>...</td>\n",
              "      <td>...</td>\n",
              "      <td>...</td>\n",
              "      <td>...</td>\n",
              "      <td>...</td>\n",
              "    </tr>\n",
              "    <tr>\n",
              "      <th>322713</th>\n",
              "      <td>1629937860000</td>\n",
              "      <td>2021-08-26 00:31:00</td>\n",
              "      <td>BTC/USDT</td>\n",
              "      <td>49034.00</td>\n",
              "      <td>49077.85</td>\n",
              "      <td>49003.30</td>\n",
              "      <td>49029.00</td>\n",
              "      <td>19.657713</td>\n",
              "      <td>9.641287e+05</td>\n",
              "      <td>945.0</td>\n",
              "    </tr>\n",
              "    <tr>\n",
              "      <th>322714</th>\n",
              "      <td>1629937920000</td>\n",
              "      <td>2021-08-26 00:32:00</td>\n",
              "      <td>BTC/USDT</td>\n",
              "      <td>49029.01</td>\n",
              "      <td>49041.79</td>\n",
              "      <td>48990.01</td>\n",
              "      <td>48999.80</td>\n",
              "      <td>14.685761</td>\n",
              "      <td>7.198294e+05</td>\n",
              "      <td>807.0</td>\n",
              "    </tr>\n",
              "    <tr>\n",
              "      <th>322715</th>\n",
              "      <td>1629937980000</td>\n",
              "      <td>2021-08-26 00:33:00</td>\n",
              "      <td>BTC/USDT</td>\n",
              "      <td>48999.80</td>\n",
              "      <td>49070.25</td>\n",
              "      <td>48983.09</td>\n",
              "      <td>49053.41</td>\n",
              "      <td>24.355314</td>\n",
              "      <td>1.193922e+06</td>\n",
              "      <td>991.0</td>\n",
              "    </tr>\n",
              "    <tr>\n",
              "      <th>322716</th>\n",
              "      <td>1629938040000</td>\n",
              "      <td>2021-08-26 00:34:00</td>\n",
              "      <td>BTC/USDT</td>\n",
              "      <td>49053.40</td>\n",
              "      <td>49053.41</td>\n",
              "      <td>49008.02</td>\n",
              "      <td>49038.72</td>\n",
              "      <td>8.390942</td>\n",
              "      <td>4.114275e+05</td>\n",
              "      <td>634.0</td>\n",
              "    </tr>\n",
              "    <tr>\n",
              "      <th>322717</th>\n",
              "      <td>1629938100000</td>\n",
              "      <td>2021-08-26 00:35:00</td>\n",
              "      <td>BTC/USDT</td>\n",
              "      <td>49038.71</td>\n",
              "      <td>49094.94</td>\n",
              "      <td>49038.71</td>\n",
              "      <td>49081.28</td>\n",
              "      <td>32.403186</td>\n",
              "      <td>1.590056e+06</td>\n",
              "      <td>1136.0</td>\n",
              "    </tr>\n",
              "  </tbody>\n",
              "</table>\n",
              "<p>322718 rows × 10 columns</p>\n",
              "</div>"
            ],
            "text/plain": [
              "                 unix                date  ...   Volume USDT  tradecount\n",
              "0       1610278800000 2021-01-10 11:40:00  ...  4.764110e+05         NaN\n",
              "1       1610278860000 2021-01-10 11:41:00  ...  7.340855e+06      3100.0\n",
              "2       1610278920000 2021-01-10 11:42:00  ...  6.503835e+06      2750.0\n",
              "3       1610278980000 2021-01-10 11:43:00  ...  2.548905e+07      9243.0\n",
              "4       1610279040000 2021-01-10 11:44:00  ...  9.151271e+06      3408.0\n",
              "...               ...                 ...  ...           ...         ...\n",
              "322713  1629937860000 2021-08-26 00:31:00  ...  9.641287e+05       945.0\n",
              "322714  1629937920000 2021-08-26 00:32:00  ...  7.198294e+05       807.0\n",
              "322715  1629937980000 2021-08-26 00:33:00  ...  1.193922e+06       991.0\n",
              "322716  1629938040000 2021-08-26 00:34:00  ...  4.114275e+05       634.0\n",
              "322717  1629938100000 2021-08-26 00:35:00  ...  1.590056e+06      1136.0\n",
              "\n",
              "[322718 rows x 10 columns]"
            ]
          },
          "metadata": {},
          "execution_count": 16
        }
      ]
    },
    {
      "cell_type": "markdown",
      "metadata": {
        "id": "tl9NiS7war8T"
      },
      "source": [
        "# Preprocessing"
      ]
    },
    {
      "cell_type": "code",
      "metadata": {
        "colab": {
          "base_uri": "https://localhost:8080/",
          "height": 201
        },
        "id": "wJHYRA5WY73L",
        "outputId": "56974bae-b2f3-406b-f801-583cb24f4590"
      },
      "source": [
        "df['prev_close'] = df.shift(1)['close']\n",
        "df.head()"
      ],
      "execution_count": null,
      "outputs": [
        {
          "output_type": "execute_result",
          "data": {
            "text/html": [
              "<div>\n",
              "<style scoped>\n",
              "    .dataframe tbody tr th:only-of-type {\n",
              "        vertical-align: middle;\n",
              "    }\n",
              "\n",
              "    .dataframe tbody tr th {\n",
              "        vertical-align: top;\n",
              "    }\n",
              "\n",
              "    .dataframe thead th {\n",
              "        text-align: right;\n",
              "    }\n",
              "</style>\n",
              "<table border=\"1\" class=\"dataframe\">\n",
              "  <thead>\n",
              "    <tr style=\"text-align: right;\">\n",
              "      <th></th>\n",
              "      <th>unix</th>\n",
              "      <th>date</th>\n",
              "      <th>symbol</th>\n",
              "      <th>open</th>\n",
              "      <th>high</th>\n",
              "      <th>low</th>\n",
              "      <th>close</th>\n",
              "      <th>Volume BTC</th>\n",
              "      <th>Volume USDT</th>\n",
              "      <th>tradecount</th>\n",
              "      <th>prev_close</th>\n",
              "    </tr>\n",
              "  </thead>\n",
              "  <tbody>\n",
              "    <tr>\n",
              "      <th>0</th>\n",
              "      <td>1610278800000</td>\n",
              "      <td>2021-01-10 11:40:00</td>\n",
              "      <td>BTC/USDT</td>\n",
              "      <td>39455.96</td>\n",
              "      <td>39471.03</td>\n",
              "      <td>39361.77</td>\n",
              "      <td>39419.97</td>\n",
              "      <td>120.857906</td>\n",
              "      <td>4.764110e+05</td>\n",
              "      <td>NaN</td>\n",
              "      <td>NaN</td>\n",
              "    </tr>\n",
              "    <tr>\n",
              "      <th>1</th>\n",
              "      <td>1610278860000</td>\n",
              "      <td>2021-01-10 11:41:00</td>\n",
              "      <td>BTC/USDT</td>\n",
              "      <td>39419.96</td>\n",
              "      <td>39419.97</td>\n",
              "      <td>39200.00</td>\n",
              "      <td>39335.77</td>\n",
              "      <td>186.719456</td>\n",
              "      <td>7.340855e+06</td>\n",
              "      <td>3100.0</td>\n",
              "      <td>39419.97</td>\n",
              "    </tr>\n",
              "    <tr>\n",
              "      <th>2</th>\n",
              "      <td>1610278920000</td>\n",
              "      <td>2021-01-10 11:42:00</td>\n",
              "      <td>BTC/USDT</td>\n",
              "      <td>39336.00</td>\n",
              "      <td>39395.97</td>\n",
              "      <td>39133.17</td>\n",
              "      <td>39155.81</td>\n",
              "      <td>165.719334</td>\n",
              "      <td>6.503835e+06</td>\n",
              "      <td>2750.0</td>\n",
              "      <td>39335.77</td>\n",
              "    </tr>\n",
              "    <tr>\n",
              "      <th>3</th>\n",
              "      <td>1610278980000</td>\n",
              "      <td>2021-01-10 11:43:00</td>\n",
              "      <td>BTC/USDT</td>\n",
              "      <td>39181.89</td>\n",
              "      <td>39182.77</td>\n",
              "      <td>38888.00</td>\n",
              "      <td>39072.08</td>\n",
              "      <td>653.444303</td>\n",
              "      <td>2.548905e+07</td>\n",
              "      <td>9243.0</td>\n",
              "      <td>39155.81</td>\n",
              "    </tr>\n",
              "    <tr>\n",
              "      <th>4</th>\n",
              "      <td>1610279040000</td>\n",
              "      <td>2021-01-10 11:44:00</td>\n",
              "      <td>BTC/USDT</td>\n",
              "      <td>39046.42</td>\n",
              "      <td>39303.10</td>\n",
              "      <td>39031.03</td>\n",
              "      <td>39294.34</td>\n",
              "      <td>233.590502</td>\n",
              "      <td>9.151271e+06</td>\n",
              "      <td>3408.0</td>\n",
              "      <td>39072.08</td>\n",
              "    </tr>\n",
              "  </tbody>\n",
              "</table>\n",
              "</div>"
            ],
            "text/plain": [
              "            unix                date  ... tradecount  prev_close\n",
              "0  1610278800000 2021-01-10 11:40:00  ...        NaN         NaN\n",
              "1  1610278860000 2021-01-10 11:41:00  ...     3100.0    39419.97\n",
              "2  1610278920000 2021-01-10 11:42:00  ...     2750.0    39335.77\n",
              "3  1610278980000 2021-01-10 11:43:00  ...     9243.0    39155.81\n",
              "4  1610279040000 2021-01-10 11:44:00  ...     3408.0    39072.08\n",
              "\n",
              "[5 rows x 11 columns]"
            ]
          },
          "metadata": {},
          "execution_count": 18
        }
      ]
    },
    {
      "cell_type": "code",
      "metadata": {
        "colab": {
          "base_uri": "https://localhost:8080/",
          "height": 49,
          "referenced_widgets": [
            "0d2533b7ec3d48039f1e17d51589ac0b",
            "84b9b848c23a409f9c1d8b951a0f4882",
            "f0b57b96d1c44aa68577016af7873a12",
            "ea84005594484346b26e801d443aadd5",
            "bf260edc3cb84194bc15a5c77c495767",
            "67d484ac5c9f4cb2af283c74688b3a77",
            "897af4e7c792471b87ad4672e8ea1427",
            "cb93b5f789d24aafa8fe01fd9b5d0352",
            "a1b48a8d7f024e45859c34b05fe710a1",
            "d6fb1217159f4ca5bbe5015390d662f5",
            "2d9f1636bfc84391b0103acb35740102"
          ]
        },
        "id": "aW4mxDQlbTVd",
        "outputId": "240b64af-781c-4026-e0d1-080ea05e2ef5"
      },
      "source": [
        "df['close_change'] = df.progress_apply(\n",
        "    lambda row: 0 if np.isnan(row.prev_close) else row.close - row.prev_close,\n",
        "    axis=1\n",
        ")"
      ],
      "execution_count": null,
      "outputs": [
        {
          "output_type": "display_data",
          "data": {
            "application/vnd.jupyter.widget-view+json": {
              "model_id": "0d2533b7ec3d48039f1e17d51589ac0b",
              "version_minor": 0,
              "version_major": 2
            },
            "text/plain": [
              "  0%|          | 0/322718 [00:00<?, ?it/s]"
            ]
          },
          "metadata": {}
        }
      ]
    },
    {
      "cell_type": "code",
      "metadata": {
        "colab": {
          "base_uri": "https://localhost:8080/",
          "height": 201
        },
        "id": "jlVAyCrWb3Ye",
        "outputId": "540729ed-fa7c-44fb-b8c2-edac8038a6b2"
      },
      "source": [
        "df.head()"
      ],
      "execution_count": null,
      "outputs": [
        {
          "output_type": "execute_result",
          "data": {
            "text/html": [
              "<div>\n",
              "<style scoped>\n",
              "    .dataframe tbody tr th:only-of-type {\n",
              "        vertical-align: middle;\n",
              "    }\n",
              "\n",
              "    .dataframe tbody tr th {\n",
              "        vertical-align: top;\n",
              "    }\n",
              "\n",
              "    .dataframe thead th {\n",
              "        text-align: right;\n",
              "    }\n",
              "</style>\n",
              "<table border=\"1\" class=\"dataframe\">\n",
              "  <thead>\n",
              "    <tr style=\"text-align: right;\">\n",
              "      <th></th>\n",
              "      <th>unix</th>\n",
              "      <th>date</th>\n",
              "      <th>symbol</th>\n",
              "      <th>open</th>\n",
              "      <th>high</th>\n",
              "      <th>low</th>\n",
              "      <th>close</th>\n",
              "      <th>Volume BTC</th>\n",
              "      <th>Volume USDT</th>\n",
              "      <th>tradecount</th>\n",
              "      <th>prev_close</th>\n",
              "      <th>close_change</th>\n",
              "    </tr>\n",
              "  </thead>\n",
              "  <tbody>\n",
              "    <tr>\n",
              "      <th>0</th>\n",
              "      <td>1610278800000</td>\n",
              "      <td>2021-01-10 11:40:00</td>\n",
              "      <td>BTC/USDT</td>\n",
              "      <td>39455.96</td>\n",
              "      <td>39471.03</td>\n",
              "      <td>39361.77</td>\n",
              "      <td>39419.97</td>\n",
              "      <td>120.857906</td>\n",
              "      <td>4.764110e+05</td>\n",
              "      <td>NaN</td>\n",
              "      <td>NaN</td>\n",
              "      <td>0.00</td>\n",
              "    </tr>\n",
              "    <tr>\n",
              "      <th>1</th>\n",
              "      <td>1610278860000</td>\n",
              "      <td>2021-01-10 11:41:00</td>\n",
              "      <td>BTC/USDT</td>\n",
              "      <td>39419.96</td>\n",
              "      <td>39419.97</td>\n",
              "      <td>39200.00</td>\n",
              "      <td>39335.77</td>\n",
              "      <td>186.719456</td>\n",
              "      <td>7.340855e+06</td>\n",
              "      <td>3100.0</td>\n",
              "      <td>39419.97</td>\n",
              "      <td>-84.20</td>\n",
              "    </tr>\n",
              "    <tr>\n",
              "      <th>2</th>\n",
              "      <td>1610278920000</td>\n",
              "      <td>2021-01-10 11:42:00</td>\n",
              "      <td>BTC/USDT</td>\n",
              "      <td>39336.00</td>\n",
              "      <td>39395.97</td>\n",
              "      <td>39133.17</td>\n",
              "      <td>39155.81</td>\n",
              "      <td>165.719334</td>\n",
              "      <td>6.503835e+06</td>\n",
              "      <td>2750.0</td>\n",
              "      <td>39335.77</td>\n",
              "      <td>-179.96</td>\n",
              "    </tr>\n",
              "    <tr>\n",
              "      <th>3</th>\n",
              "      <td>1610278980000</td>\n",
              "      <td>2021-01-10 11:43:00</td>\n",
              "      <td>BTC/USDT</td>\n",
              "      <td>39181.89</td>\n",
              "      <td>39182.77</td>\n",
              "      <td>38888.00</td>\n",
              "      <td>39072.08</td>\n",
              "      <td>653.444303</td>\n",
              "      <td>2.548905e+07</td>\n",
              "      <td>9243.0</td>\n",
              "      <td>39155.81</td>\n",
              "      <td>-83.73</td>\n",
              "    </tr>\n",
              "    <tr>\n",
              "      <th>4</th>\n",
              "      <td>1610279040000</td>\n",
              "      <td>2021-01-10 11:44:00</td>\n",
              "      <td>BTC/USDT</td>\n",
              "      <td>39046.42</td>\n",
              "      <td>39303.10</td>\n",
              "      <td>39031.03</td>\n",
              "      <td>39294.34</td>\n",
              "      <td>233.590502</td>\n",
              "      <td>9.151271e+06</td>\n",
              "      <td>3408.0</td>\n",
              "      <td>39072.08</td>\n",
              "      <td>222.26</td>\n",
              "    </tr>\n",
              "  </tbody>\n",
              "</table>\n",
              "</div>"
            ],
            "text/plain": [
              "            unix                date  ... prev_close  close_change\n",
              "0  1610278800000 2021-01-10 11:40:00  ...        NaN          0.00\n",
              "1  1610278860000 2021-01-10 11:41:00  ...   39419.97        -84.20\n",
              "2  1610278920000 2021-01-10 11:42:00  ...   39335.77       -179.96\n",
              "3  1610278980000 2021-01-10 11:43:00  ...   39155.81        -83.73\n",
              "4  1610279040000 2021-01-10 11:44:00  ...   39072.08        222.26\n",
              "\n",
              "[5 rows x 12 columns]"
            ]
          },
          "metadata": {},
          "execution_count": 22
        }
      ]
    },
    {
      "cell_type": "code",
      "metadata": {
        "colab": {
          "base_uri": "https://localhost:8080/",
          "height": 49,
          "referenced_widgets": [
            "d8d2f78743d448deab91f2046454b365",
            "df8714d00554410fb727b674fb79cd2d",
            "fda52fc0aec448d5af9662fc96cadf4e",
            "31cb9e9b437b40cb9d3393227473b092",
            "6d8d1ea82dfc42de9fa5353b9a29e3f5",
            "1e7deaa9c1824adebcd615b5fc69e016",
            "05193f6707d44270a251e418303b8018",
            "fa244543ea8c47d39c5f937b10816546",
            "67b6c83f4354459994b41edade2adf80",
            "fca9233d5b2945f5b6e01045da707cae",
            "3f086b7cf5614fb4bd873019a7597d3a"
          ]
        },
        "id": "2JGLLlWFcNlg",
        "outputId": "464185b1-a4ee-4b34-d05e-9abc7249f8f5"
      },
      "source": [
        "rows = []\n",
        "\n",
        "for _, row in tqdm(df.iterrows(), total=df.shape[0]):\n",
        "    row_data = dict(\n",
        "        day_of_week = row.date.dayofweek,\n",
        "        day_of_month = row.date.day,\n",
        "        week_of_year = row.date.week,\n",
        "        month = row.date.month,\n",
        "        open = row.open,\n",
        "        high = row.high,\n",
        "        low = row.low,\n",
        "        close_change = row.close_change,\n",
        "        close = row.close\n",
        "    )\n",
        "    rows.append(row_data)"
      ],
      "execution_count": null,
      "outputs": [
        {
          "output_type": "display_data",
          "data": {
            "application/vnd.jupyter.widget-view+json": {
              "model_id": "d8d2f78743d448deab91f2046454b365",
              "version_minor": 0,
              "version_major": 2
            },
            "text/plain": [
              "  0%|          | 0/322718 [00:00<?, ?it/s]"
            ]
          },
          "metadata": {}
        }
      ]
    },
    {
      "cell_type": "code",
      "metadata": {
        "colab": {
          "base_uri": "https://localhost:8080/",
          "height": 201
        },
        "id": "S6dERe6Lc3Dm",
        "outputId": "5886adc7-8e38-4d14-93bb-bc0cad1c5e2a"
      },
      "source": [
        "features_df = pd.DataFrame(rows)\n",
        "features_df.head()"
      ],
      "execution_count": null,
      "outputs": [
        {
          "output_type": "execute_result",
          "data": {
            "text/html": [
              "<div>\n",
              "<style scoped>\n",
              "    .dataframe tbody tr th:only-of-type {\n",
              "        vertical-align: middle;\n",
              "    }\n",
              "\n",
              "    .dataframe tbody tr th {\n",
              "        vertical-align: top;\n",
              "    }\n",
              "\n",
              "    .dataframe thead th {\n",
              "        text-align: right;\n",
              "    }\n",
              "</style>\n",
              "<table border=\"1\" class=\"dataframe\">\n",
              "  <thead>\n",
              "    <tr style=\"text-align: right;\">\n",
              "      <th></th>\n",
              "      <th>day_of_week</th>\n",
              "      <th>day_of_month</th>\n",
              "      <th>week_of_year</th>\n",
              "      <th>month</th>\n",
              "      <th>open</th>\n",
              "      <th>high</th>\n",
              "      <th>low</th>\n",
              "      <th>close_change</th>\n",
              "      <th>close</th>\n",
              "    </tr>\n",
              "  </thead>\n",
              "  <tbody>\n",
              "    <tr>\n",
              "      <th>0</th>\n",
              "      <td>6</td>\n",
              "      <td>10</td>\n",
              "      <td>1</td>\n",
              "      <td>1</td>\n",
              "      <td>39455.96</td>\n",
              "      <td>39471.03</td>\n",
              "      <td>39361.77</td>\n",
              "      <td>0.00</td>\n",
              "      <td>39419.97</td>\n",
              "    </tr>\n",
              "    <tr>\n",
              "      <th>1</th>\n",
              "      <td>6</td>\n",
              "      <td>10</td>\n",
              "      <td>1</td>\n",
              "      <td>1</td>\n",
              "      <td>39419.96</td>\n",
              "      <td>39419.97</td>\n",
              "      <td>39200.00</td>\n",
              "      <td>-84.20</td>\n",
              "      <td>39335.77</td>\n",
              "    </tr>\n",
              "    <tr>\n",
              "      <th>2</th>\n",
              "      <td>6</td>\n",
              "      <td>10</td>\n",
              "      <td>1</td>\n",
              "      <td>1</td>\n",
              "      <td>39336.00</td>\n",
              "      <td>39395.97</td>\n",
              "      <td>39133.17</td>\n",
              "      <td>-179.96</td>\n",
              "      <td>39155.81</td>\n",
              "    </tr>\n",
              "    <tr>\n",
              "      <th>3</th>\n",
              "      <td>6</td>\n",
              "      <td>10</td>\n",
              "      <td>1</td>\n",
              "      <td>1</td>\n",
              "      <td>39181.89</td>\n",
              "      <td>39182.77</td>\n",
              "      <td>38888.00</td>\n",
              "      <td>-83.73</td>\n",
              "      <td>39072.08</td>\n",
              "    </tr>\n",
              "    <tr>\n",
              "      <th>4</th>\n",
              "      <td>6</td>\n",
              "      <td>10</td>\n",
              "      <td>1</td>\n",
              "      <td>1</td>\n",
              "      <td>39046.42</td>\n",
              "      <td>39303.10</td>\n",
              "      <td>39031.03</td>\n",
              "      <td>222.26</td>\n",
              "      <td>39294.34</td>\n",
              "    </tr>\n",
              "  </tbody>\n",
              "</table>\n",
              "</div>"
            ],
            "text/plain": [
              "   day_of_week  day_of_month  week_of_year  ...       low  close_change     close\n",
              "0            6            10             1  ...  39361.77          0.00  39419.97\n",
              "1            6            10             1  ...  39200.00        -84.20  39335.77\n",
              "2            6            10             1  ...  39133.17       -179.96  39155.81\n",
              "3            6            10             1  ...  38888.00        -83.73  39072.08\n",
              "4            6            10             1  ...  39031.03        222.26  39294.34\n",
              "\n",
              "[5 rows x 9 columns]"
            ]
          },
          "metadata": {},
          "execution_count": 37
        }
      ]
    },
    {
      "cell_type": "code",
      "metadata": {
        "colab": {
          "base_uri": "https://localhost:8080/"
        },
        "id": "x2urvjqNoF6D",
        "outputId": "4d8ce0fd-2f79-4032-ddde-5ec5cdcb95fa"
      },
      "source": [
        "features_df.shape"
      ],
      "execution_count": null,
      "outputs": [
        {
          "output_type": "execute_result",
          "data": {
            "text/plain": [
              "(322718, 9)"
            ]
          },
          "metadata": {},
          "execution_count": 41
        }
      ]
    },
    {
      "cell_type": "code",
      "metadata": {
        "colab": {
          "base_uri": "https://localhost:8080/"
        },
        "id": "f3ek51pWc41e",
        "outputId": "66f5deee-baa0-475b-fc4d-945c643bd863"
      },
      "source": [
        "train_size = int(len(features_df) * 0.9)\n",
        "train_size"
      ],
      "execution_count": null,
      "outputs": [
        {
          "output_type": "execute_result",
          "data": {
            "text/plain": [
              "290446"
            ]
          },
          "metadata": {},
          "execution_count": 38
        }
      ]
    },
    {
      "cell_type": "code",
      "metadata": {
        "colab": {
          "base_uri": "https://localhost:8080/"
        },
        "id": "ed4QdpvFntXm",
        "outputId": "de58a8e2-5165-4e25-b7d7-0e515d17357f"
      },
      "source": [
        "train_df, test_df = features_df[:train_size], features_df[train_size:]\n",
        "train_df.shape, test_df.shape"
      ],
      "execution_count": null,
      "outputs": [
        {
          "output_type": "execute_result",
          "data": {
            "text/plain": [
              "((290446, 9), (32272, 9))"
            ]
          },
          "metadata": {},
          "execution_count": 42
        }
      ]
    },
    {
      "cell_type": "code",
      "metadata": {
        "id": "pEPwfDl-n-VC"
      },
      "source": [
        "scaler = MinMaxScaler(feature_range=(-1, 1))\n",
        "scaler = scaler.fit(train_df)"
      ],
      "execution_count": null,
      "outputs": []
    },
    {
      "cell_type": "code",
      "metadata": {
        "id": "IskKIC_oooPI"
      },
      "source": [
        "train_df = "
      ],
      "execution_count": null,
      "outputs": []
    }
  ]
}