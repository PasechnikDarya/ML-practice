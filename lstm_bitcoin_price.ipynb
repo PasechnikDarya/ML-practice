{
  "nbformat": 4,
  "nbformat_minor": 0,
  "metadata": {
    "colab": {
      "name": "lstm_bitcoin_price.ipynb",
      "provenance": [],
      "collapsed_sections": [],
      "authorship_tag": "ABX9TyMq8Oxt5mm4KI5eBuBUP2gF",
      "include_colab_link": true
    },
    "kernelspec": {
      "name": "python3",
      "display_name": "Python 3"
    },
    "language_info": {
      "name": "python"
    },
    "accelerator": "GPU",
    "widgets": {
      "application/vnd.jupyter.widget-state+json": {
        "636f1e6dab774a1f91b635be88fc3c9d": {
          "model_module": "@jupyter-widgets/controls",
          "model_name": "HBoxModel",
          "model_module_version": "1.5.0",
          "state": {
            "_view_name": "HBoxView",
            "_dom_classes": [],
            "_model_name": "HBoxModel",
            "_view_module": "@jupyter-widgets/controls",
            "_model_module_version": "1.5.0",
            "_view_count": null,
            "_view_module_version": "1.5.0",
            "box_style": "",
            "layout": "IPY_MODEL_be9500d6676b46fc907565b12548ffb4",
            "_model_module": "@jupyter-widgets/controls",
            "children": [
              "IPY_MODEL_ad530099d7064df993332813699c6e8b",
              "IPY_MODEL_fdf18f928376473a89fc56a87b23d16d",
              "IPY_MODEL_f1a94267899a42cab4e85c63273beebd"
            ]
          }
        },
        "be9500d6676b46fc907565b12548ffb4": {
          "model_module": "@jupyter-widgets/base",
          "model_name": "LayoutModel",
          "model_module_version": "1.2.0",
          "state": {
            "_view_name": "LayoutView",
            "grid_template_rows": null,
            "right": null,
            "justify_content": null,
            "_view_module": "@jupyter-widgets/base",
            "overflow": null,
            "_model_module_version": "1.2.0",
            "_view_count": null,
            "flex_flow": null,
            "width": null,
            "min_width": null,
            "border": null,
            "align_items": null,
            "bottom": null,
            "_model_module": "@jupyter-widgets/base",
            "top": null,
            "grid_column": null,
            "overflow_y": null,
            "overflow_x": null,
            "grid_auto_flow": null,
            "grid_area": null,
            "grid_template_columns": null,
            "flex": null,
            "_model_name": "LayoutModel",
            "justify_items": null,
            "grid_row": null,
            "max_height": null,
            "align_content": null,
            "visibility": null,
            "align_self": null,
            "height": null,
            "min_height": null,
            "padding": null,
            "grid_auto_rows": null,
            "grid_gap": null,
            "max_width": null,
            "order": null,
            "_view_module_version": "1.2.0",
            "grid_template_areas": null,
            "object_position": null,
            "object_fit": null,
            "grid_auto_columns": null,
            "margin": null,
            "display": null,
            "left": null
          }
        },
        "ad530099d7064df993332813699c6e8b": {
          "model_module": "@jupyter-widgets/controls",
          "model_name": "HTMLModel",
          "model_module_version": "1.5.0",
          "state": {
            "_view_name": "HTMLView",
            "style": "IPY_MODEL_e006e9fba85d4eaca2907a982b0e6f64",
            "_dom_classes": [],
            "description": "",
            "_model_name": "HTMLModel",
            "placeholder": "​",
            "_view_module": "@jupyter-widgets/controls",
            "_model_module_version": "1.5.0",
            "value": "100%",
            "_view_count": null,
            "_view_module_version": "1.5.0",
            "description_tooltip": null,
            "_model_module": "@jupyter-widgets/controls",
            "layout": "IPY_MODEL_f58fff198f2b46268e63f29a2ee1015a"
          }
        },
        "fdf18f928376473a89fc56a87b23d16d": {
          "model_module": "@jupyter-widgets/controls",
          "model_name": "FloatProgressModel",
          "model_module_version": "1.5.0",
          "state": {
            "_view_name": "ProgressView",
            "style": "IPY_MODEL_e7411eef3a3047e2bb66c50d486b5d0f",
            "_dom_classes": [],
            "description": "",
            "_model_name": "FloatProgressModel",
            "bar_style": "success",
            "max": 69459,
            "_view_module": "@jupyter-widgets/controls",
            "_model_module_version": "1.5.0",
            "value": 69459,
            "_view_count": null,
            "_view_module_version": "1.5.0",
            "orientation": "horizontal",
            "min": 0,
            "description_tooltip": null,
            "_model_module": "@jupyter-widgets/controls",
            "layout": "IPY_MODEL_49c49cc8ab564dda858dfd6686bec0f0"
          }
        },
        "f1a94267899a42cab4e85c63273beebd": {
          "model_module": "@jupyter-widgets/controls",
          "model_name": "HTMLModel",
          "model_module_version": "1.5.0",
          "state": {
            "_view_name": "HTMLView",
            "style": "IPY_MODEL_7578c394c8094332acaaba14e730fa7d",
            "_dom_classes": [],
            "description": "",
            "_model_name": "HTMLModel",
            "placeholder": "​",
            "_view_module": "@jupyter-widgets/controls",
            "_model_module_version": "1.5.0",
            "value": " 69459/69459 [00:03&lt;00:00, 23699.57it/s]",
            "_view_count": null,
            "_view_module_version": "1.5.0",
            "description_tooltip": null,
            "_model_module": "@jupyter-widgets/controls",
            "layout": "IPY_MODEL_f08d2da005a9453ca9822f3cd7116478"
          }
        },
        "e006e9fba85d4eaca2907a982b0e6f64": {
          "model_module": "@jupyter-widgets/controls",
          "model_name": "DescriptionStyleModel",
          "model_module_version": "1.5.0",
          "state": {
            "_view_name": "StyleView",
            "_model_name": "DescriptionStyleModel",
            "description_width": "",
            "_view_module": "@jupyter-widgets/base",
            "_model_module_version": "1.5.0",
            "_view_count": null,
            "_view_module_version": "1.2.0",
            "_model_module": "@jupyter-widgets/controls"
          }
        },
        "f58fff198f2b46268e63f29a2ee1015a": {
          "model_module": "@jupyter-widgets/base",
          "model_name": "LayoutModel",
          "model_module_version": "1.2.0",
          "state": {
            "_view_name": "LayoutView",
            "grid_template_rows": null,
            "right": null,
            "justify_content": null,
            "_view_module": "@jupyter-widgets/base",
            "overflow": null,
            "_model_module_version": "1.2.0",
            "_view_count": null,
            "flex_flow": null,
            "width": null,
            "min_width": null,
            "border": null,
            "align_items": null,
            "bottom": null,
            "_model_module": "@jupyter-widgets/base",
            "top": null,
            "grid_column": null,
            "overflow_y": null,
            "overflow_x": null,
            "grid_auto_flow": null,
            "grid_area": null,
            "grid_template_columns": null,
            "flex": null,
            "_model_name": "LayoutModel",
            "justify_items": null,
            "grid_row": null,
            "max_height": null,
            "align_content": null,
            "visibility": null,
            "align_self": null,
            "height": null,
            "min_height": null,
            "padding": null,
            "grid_auto_rows": null,
            "grid_gap": null,
            "max_width": null,
            "order": null,
            "_view_module_version": "1.2.0",
            "grid_template_areas": null,
            "object_position": null,
            "object_fit": null,
            "grid_auto_columns": null,
            "margin": null,
            "display": null,
            "left": null
          }
        },
        "e7411eef3a3047e2bb66c50d486b5d0f": {
          "model_module": "@jupyter-widgets/controls",
          "model_name": "ProgressStyleModel",
          "model_module_version": "1.5.0",
          "state": {
            "_view_name": "StyleView",
            "_model_name": "ProgressStyleModel",
            "description_width": "",
            "_view_module": "@jupyter-widgets/base",
            "_model_module_version": "1.5.0",
            "_view_count": null,
            "_view_module_version": "1.2.0",
            "bar_color": null,
            "_model_module": "@jupyter-widgets/controls"
          }
        },
        "49c49cc8ab564dda858dfd6686bec0f0": {
          "model_module": "@jupyter-widgets/base",
          "model_name": "LayoutModel",
          "model_module_version": "1.2.0",
          "state": {
            "_view_name": "LayoutView",
            "grid_template_rows": null,
            "right": null,
            "justify_content": null,
            "_view_module": "@jupyter-widgets/base",
            "overflow": null,
            "_model_module_version": "1.2.0",
            "_view_count": null,
            "flex_flow": null,
            "width": null,
            "min_width": null,
            "border": null,
            "align_items": null,
            "bottom": null,
            "_model_module": "@jupyter-widgets/base",
            "top": null,
            "grid_column": null,
            "overflow_y": null,
            "overflow_x": null,
            "grid_auto_flow": null,
            "grid_area": null,
            "grid_template_columns": null,
            "flex": null,
            "_model_name": "LayoutModel",
            "justify_items": null,
            "grid_row": null,
            "max_height": null,
            "align_content": null,
            "visibility": null,
            "align_self": null,
            "height": null,
            "min_height": null,
            "padding": null,
            "grid_auto_rows": null,
            "grid_gap": null,
            "max_width": null,
            "order": null,
            "_view_module_version": "1.2.0",
            "grid_template_areas": null,
            "object_position": null,
            "object_fit": null,
            "grid_auto_columns": null,
            "margin": null,
            "display": null,
            "left": null
          }
        },
        "7578c394c8094332acaaba14e730fa7d": {
          "model_module": "@jupyter-widgets/controls",
          "model_name": "DescriptionStyleModel",
          "model_module_version": "1.5.0",
          "state": {
            "_view_name": "StyleView",
            "_model_name": "DescriptionStyleModel",
            "description_width": "",
            "_view_module": "@jupyter-widgets/base",
            "_model_module_version": "1.5.0",
            "_view_count": null,
            "_view_module_version": "1.2.0",
            "_model_module": "@jupyter-widgets/controls"
          }
        },
        "f08d2da005a9453ca9822f3cd7116478": {
          "model_module": "@jupyter-widgets/base",
          "model_name": "LayoutModel",
          "model_module_version": "1.2.0",
          "state": {
            "_view_name": "LayoutView",
            "grid_template_rows": null,
            "right": null,
            "justify_content": null,
            "_view_module": "@jupyter-widgets/base",
            "overflow": null,
            "_model_module_version": "1.2.0",
            "_view_count": null,
            "flex_flow": null,
            "width": null,
            "min_width": null,
            "border": null,
            "align_items": null,
            "bottom": null,
            "_model_module": "@jupyter-widgets/base",
            "top": null,
            "grid_column": null,
            "overflow_y": null,
            "overflow_x": null,
            "grid_auto_flow": null,
            "grid_area": null,
            "grid_template_columns": null,
            "flex": null,
            "_model_name": "LayoutModel",
            "justify_items": null,
            "grid_row": null,
            "max_height": null,
            "align_content": null,
            "visibility": null,
            "align_self": null,
            "height": null,
            "min_height": null,
            "padding": null,
            "grid_auto_rows": null,
            "grid_gap": null,
            "max_width": null,
            "order": null,
            "_view_module_version": "1.2.0",
            "grid_template_areas": null,
            "object_position": null,
            "object_fit": null,
            "grid_auto_columns": null,
            "margin": null,
            "display": null,
            "left": null
          }
        },
        "3f107c1cee8840519c6cedd2ef24293b": {
          "model_module": "@jupyter-widgets/controls",
          "model_name": "HBoxModel",
          "model_module_version": "1.5.0",
          "state": {
            "_view_name": "HBoxView",
            "_dom_classes": [],
            "_model_name": "HBoxModel",
            "_view_module": "@jupyter-widgets/controls",
            "_model_module_version": "1.5.0",
            "_view_count": null,
            "_view_module_version": "1.5.0",
            "box_style": "",
            "layout": "IPY_MODEL_6124690003d446259c9326a8b771dce1",
            "_model_module": "@jupyter-widgets/controls",
            "children": [
              "IPY_MODEL_53b0f8a62b914f1a902cf82410fb6024",
              "IPY_MODEL_5e081093830c44c58a717c33de98c9d7",
              "IPY_MODEL_25b8997aac684c799ae2ed7ec1d28254"
            ]
          }
        },
        "6124690003d446259c9326a8b771dce1": {
          "model_module": "@jupyter-widgets/base",
          "model_name": "LayoutModel",
          "model_module_version": "1.2.0",
          "state": {
            "_view_name": "LayoutView",
            "grid_template_rows": null,
            "right": null,
            "justify_content": null,
            "_view_module": "@jupyter-widgets/base",
            "overflow": null,
            "_model_module_version": "1.2.0",
            "_view_count": null,
            "flex_flow": null,
            "width": null,
            "min_width": null,
            "border": null,
            "align_items": null,
            "bottom": null,
            "_model_module": "@jupyter-widgets/base",
            "top": null,
            "grid_column": null,
            "overflow_y": null,
            "overflow_x": null,
            "grid_auto_flow": null,
            "grid_area": null,
            "grid_template_columns": null,
            "flex": null,
            "_model_name": "LayoutModel",
            "justify_items": null,
            "grid_row": null,
            "max_height": null,
            "align_content": null,
            "visibility": null,
            "align_self": null,
            "height": null,
            "min_height": null,
            "padding": null,
            "grid_auto_rows": null,
            "grid_gap": null,
            "max_width": null,
            "order": null,
            "_view_module_version": "1.2.0",
            "grid_template_areas": null,
            "object_position": null,
            "object_fit": null,
            "grid_auto_columns": null,
            "margin": null,
            "display": null,
            "left": null
          }
        },
        "53b0f8a62b914f1a902cf82410fb6024": {
          "model_module": "@jupyter-widgets/controls",
          "model_name": "HTMLModel",
          "model_module_version": "1.5.0",
          "state": {
            "_view_name": "HTMLView",
            "style": "IPY_MODEL_addbb57aef35467ebbd1c2ad15e13a78",
            "_dom_classes": [],
            "description": "",
            "_model_name": "HTMLModel",
            "placeholder": "​",
            "_view_module": "@jupyter-widgets/controls",
            "_model_module_version": "1.5.0",
            "value": "100%",
            "_view_count": null,
            "_view_module_version": "1.5.0",
            "description_tooltip": null,
            "_model_module": "@jupyter-widgets/controls",
            "layout": "IPY_MODEL_e82217c7ba0b49a9ae9a28034531c021"
          }
        },
        "5e081093830c44c58a717c33de98c9d7": {
          "model_module": "@jupyter-widgets/controls",
          "model_name": "FloatProgressModel",
          "model_module_version": "1.5.0",
          "state": {
            "_view_name": "ProgressView",
            "style": "IPY_MODEL_58a5e8edec93423187dfead1ed95b52f",
            "_dom_classes": [],
            "description": "",
            "_model_name": "FloatProgressModel",
            "bar_style": "success",
            "max": 69459,
            "_view_module": "@jupyter-widgets/controls",
            "_model_module_version": "1.5.0",
            "value": 69459,
            "_view_count": null,
            "_view_module_version": "1.5.0",
            "orientation": "horizontal",
            "min": 0,
            "description_tooltip": null,
            "_model_module": "@jupyter-widgets/controls",
            "layout": "IPY_MODEL_a2c5a011bb6145db9e0f82e7a12d618b"
          }
        },
        "25b8997aac684c799ae2ed7ec1d28254": {
          "model_module": "@jupyter-widgets/controls",
          "model_name": "HTMLModel",
          "model_module_version": "1.5.0",
          "state": {
            "_view_name": "HTMLView",
            "style": "IPY_MODEL_6bcf72dda3184ffc875eee796af2a5bd",
            "_dom_classes": [],
            "description": "",
            "_model_name": "HTMLModel",
            "placeholder": "​",
            "_view_module": "@jupyter-widgets/controls",
            "_model_module_version": "1.5.0",
            "value": " 69459/69459 [00:16&lt;00:00, 3848.06it/s]",
            "_view_count": null,
            "_view_module_version": "1.5.0",
            "description_tooltip": null,
            "_model_module": "@jupyter-widgets/controls",
            "layout": "IPY_MODEL_9ca9d46a79b24c378c1c9c59175976c4"
          }
        },
        "addbb57aef35467ebbd1c2ad15e13a78": {
          "model_module": "@jupyter-widgets/controls",
          "model_name": "DescriptionStyleModel",
          "model_module_version": "1.5.0",
          "state": {
            "_view_name": "StyleView",
            "_model_name": "DescriptionStyleModel",
            "description_width": "",
            "_view_module": "@jupyter-widgets/base",
            "_model_module_version": "1.5.0",
            "_view_count": null,
            "_view_module_version": "1.2.0",
            "_model_module": "@jupyter-widgets/controls"
          }
        },
        "e82217c7ba0b49a9ae9a28034531c021": {
          "model_module": "@jupyter-widgets/base",
          "model_name": "LayoutModel",
          "model_module_version": "1.2.0",
          "state": {
            "_view_name": "LayoutView",
            "grid_template_rows": null,
            "right": null,
            "justify_content": null,
            "_view_module": "@jupyter-widgets/base",
            "overflow": null,
            "_model_module_version": "1.2.0",
            "_view_count": null,
            "flex_flow": null,
            "width": null,
            "min_width": null,
            "border": null,
            "align_items": null,
            "bottom": null,
            "_model_module": "@jupyter-widgets/base",
            "top": null,
            "grid_column": null,
            "overflow_y": null,
            "overflow_x": null,
            "grid_auto_flow": null,
            "grid_area": null,
            "grid_template_columns": null,
            "flex": null,
            "_model_name": "LayoutModel",
            "justify_items": null,
            "grid_row": null,
            "max_height": null,
            "align_content": null,
            "visibility": null,
            "align_self": null,
            "height": null,
            "min_height": null,
            "padding": null,
            "grid_auto_rows": null,
            "grid_gap": null,
            "max_width": null,
            "order": null,
            "_view_module_version": "1.2.0",
            "grid_template_areas": null,
            "object_position": null,
            "object_fit": null,
            "grid_auto_columns": null,
            "margin": null,
            "display": null,
            "left": null
          }
        },
        "58a5e8edec93423187dfead1ed95b52f": {
          "model_module": "@jupyter-widgets/controls",
          "model_name": "ProgressStyleModel",
          "model_module_version": "1.5.0",
          "state": {
            "_view_name": "StyleView",
            "_model_name": "ProgressStyleModel",
            "description_width": "",
            "_view_module": "@jupyter-widgets/base",
            "_model_module_version": "1.5.0",
            "_view_count": null,
            "_view_module_version": "1.2.0",
            "bar_color": null,
            "_model_module": "@jupyter-widgets/controls"
          }
        },
        "a2c5a011bb6145db9e0f82e7a12d618b": {
          "model_module": "@jupyter-widgets/base",
          "model_name": "LayoutModel",
          "model_module_version": "1.2.0",
          "state": {
            "_view_name": "LayoutView",
            "grid_template_rows": null,
            "right": null,
            "justify_content": null,
            "_view_module": "@jupyter-widgets/base",
            "overflow": null,
            "_model_module_version": "1.2.0",
            "_view_count": null,
            "flex_flow": null,
            "width": null,
            "min_width": null,
            "border": null,
            "align_items": null,
            "bottom": null,
            "_model_module": "@jupyter-widgets/base",
            "top": null,
            "grid_column": null,
            "overflow_y": null,
            "overflow_x": null,
            "grid_auto_flow": null,
            "grid_area": null,
            "grid_template_columns": null,
            "flex": null,
            "_model_name": "LayoutModel",
            "justify_items": null,
            "grid_row": null,
            "max_height": null,
            "align_content": null,
            "visibility": null,
            "align_self": null,
            "height": null,
            "min_height": null,
            "padding": null,
            "grid_auto_rows": null,
            "grid_gap": null,
            "max_width": null,
            "order": null,
            "_view_module_version": "1.2.0",
            "grid_template_areas": null,
            "object_position": null,
            "object_fit": null,
            "grid_auto_columns": null,
            "margin": null,
            "display": null,
            "left": null
          }
        },
        "6bcf72dda3184ffc875eee796af2a5bd": {
          "model_module": "@jupyter-widgets/controls",
          "model_name": "DescriptionStyleModel",
          "model_module_version": "1.5.0",
          "state": {
            "_view_name": "StyleView",
            "_model_name": "DescriptionStyleModel",
            "description_width": "",
            "_view_module": "@jupyter-widgets/base",
            "_model_module_version": "1.5.0",
            "_view_count": null,
            "_view_module_version": "1.2.0",
            "_model_module": "@jupyter-widgets/controls"
          }
        },
        "9ca9d46a79b24c378c1c9c59175976c4": {
          "model_module": "@jupyter-widgets/base",
          "model_name": "LayoutModel",
          "model_module_version": "1.2.0",
          "state": {
            "_view_name": "LayoutView",
            "grid_template_rows": null,
            "right": null,
            "justify_content": null,
            "_view_module": "@jupyter-widgets/base",
            "overflow": null,
            "_model_module_version": "1.2.0",
            "_view_count": null,
            "flex_flow": null,
            "width": null,
            "min_width": null,
            "border": null,
            "align_items": null,
            "bottom": null,
            "_model_module": "@jupyter-widgets/base",
            "top": null,
            "grid_column": null,
            "overflow_y": null,
            "overflow_x": null,
            "grid_auto_flow": null,
            "grid_area": null,
            "grid_template_columns": null,
            "flex": null,
            "_model_name": "LayoutModel",
            "justify_items": null,
            "grid_row": null,
            "max_height": null,
            "align_content": null,
            "visibility": null,
            "align_self": null,
            "height": null,
            "min_height": null,
            "padding": null,
            "grid_auto_rows": null,
            "grid_gap": null,
            "max_width": null,
            "order": null,
            "_view_module_version": "1.2.0",
            "grid_template_areas": null,
            "object_position": null,
            "object_fit": null,
            "grid_auto_columns": null,
            "margin": null,
            "display": null,
            "left": null
          }
        },
        "367c7832248b491d82c5e85c6ef3b9d0": {
          "model_module": "@jupyter-widgets/controls",
          "model_name": "HBoxModel",
          "model_module_version": "1.5.0",
          "state": {
            "_view_name": "HBoxView",
            "_dom_classes": [],
            "_model_name": "HBoxModel",
            "_view_module": "@jupyter-widgets/controls",
            "_model_module_version": "1.5.0",
            "_view_count": null,
            "_view_module_version": "1.5.0",
            "box_style": "",
            "layout": "IPY_MODEL_733812d5a333465998a2600c0d68fb1b",
            "_model_module": "@jupyter-widgets/controls",
            "children": [
              "IPY_MODEL_ba29e6f1f1e84d8eab266288943e2b19",
              "IPY_MODEL_afceb8d3daf144d9816020c579bdc193",
              "IPY_MODEL_f980ca62ffe743c5b07f3292454e4277"
            ]
          }
        },
        "733812d5a333465998a2600c0d68fb1b": {
          "model_module": "@jupyter-widgets/base",
          "model_name": "LayoutModel",
          "model_module_version": "1.2.0",
          "state": {
            "_view_name": "LayoutView",
            "grid_template_rows": null,
            "right": null,
            "justify_content": null,
            "_view_module": "@jupyter-widgets/base",
            "overflow": null,
            "_model_module_version": "1.2.0",
            "_view_count": null,
            "flex_flow": null,
            "width": null,
            "min_width": null,
            "border": null,
            "align_items": null,
            "bottom": null,
            "_model_module": "@jupyter-widgets/base",
            "top": null,
            "grid_column": null,
            "overflow_y": null,
            "overflow_x": null,
            "grid_auto_flow": null,
            "grid_area": null,
            "grid_template_columns": null,
            "flex": null,
            "_model_name": "LayoutModel",
            "justify_items": null,
            "grid_row": null,
            "max_height": null,
            "align_content": null,
            "visibility": null,
            "align_self": null,
            "height": null,
            "min_height": null,
            "padding": null,
            "grid_auto_rows": null,
            "grid_gap": null,
            "max_width": null,
            "order": null,
            "_view_module_version": "1.2.0",
            "grid_template_areas": null,
            "object_position": null,
            "object_fit": null,
            "grid_auto_columns": null,
            "margin": null,
            "display": null,
            "left": null
          }
        },
        "ba29e6f1f1e84d8eab266288943e2b19": {
          "model_module": "@jupyter-widgets/controls",
          "model_name": "HTMLModel",
          "model_module_version": "1.5.0",
          "state": {
            "_view_name": "HTMLView",
            "style": "IPY_MODEL_c84edb433cb44fd99a0e2b03bd4c747b",
            "_dom_classes": [],
            "description": "",
            "_model_name": "HTMLModel",
            "placeholder": "​",
            "_view_module": "@jupyter-widgets/controls",
            "_model_module_version": "1.5.0",
            "value": "100%",
            "_view_count": null,
            "_view_module_version": "1.5.0",
            "description_tooltip": null,
            "_model_module": "@jupyter-widgets/controls",
            "layout": "IPY_MODEL_9eb54e6045d0430cb25ec01eb8688f95"
          }
        },
        "afceb8d3daf144d9816020c579bdc193": {
          "model_module": "@jupyter-widgets/controls",
          "model_name": "FloatProgressModel",
          "model_module_version": "1.5.0",
          "state": {
            "_view_name": "ProgressView",
            "style": "IPY_MODEL_f0c786a22eaa461197c8865bfcbd955d",
            "_dom_classes": [],
            "description": "",
            "_model_name": "FloatProgressModel",
            "bar_style": "success",
            "max": 62393,
            "_view_module": "@jupyter-widgets/controls",
            "_model_module_version": "1.5.0",
            "value": 62393,
            "_view_count": null,
            "_view_module_version": "1.5.0",
            "orientation": "horizontal",
            "min": 0,
            "description_tooltip": null,
            "_model_module": "@jupyter-widgets/controls",
            "layout": "IPY_MODEL_af5c4e9a38af4133ad2f4f020ec82179"
          }
        },
        "f980ca62ffe743c5b07f3292454e4277": {
          "model_module": "@jupyter-widgets/controls",
          "model_name": "HTMLModel",
          "model_module_version": "1.5.0",
          "state": {
            "_view_name": "HTMLView",
            "style": "IPY_MODEL_5d5b2b55f169470ca645fbbd86170a6c",
            "_dom_classes": [],
            "description": "",
            "_model_name": "HTMLModel",
            "placeholder": "​",
            "_view_module": "@jupyter-widgets/controls",
            "_model_module_version": "1.5.0",
            "value": " 62393/62393 [00:04&lt;00:00, 16498.39it/s]",
            "_view_count": null,
            "_view_module_version": "1.5.0",
            "description_tooltip": null,
            "_model_module": "@jupyter-widgets/controls",
            "layout": "IPY_MODEL_79e86ef5938d450f9497ddff134b25d4"
          }
        },
        "c84edb433cb44fd99a0e2b03bd4c747b": {
          "model_module": "@jupyter-widgets/controls",
          "model_name": "DescriptionStyleModel",
          "model_module_version": "1.5.0",
          "state": {
            "_view_name": "StyleView",
            "_model_name": "DescriptionStyleModel",
            "description_width": "",
            "_view_module": "@jupyter-widgets/base",
            "_model_module_version": "1.5.0",
            "_view_count": null,
            "_view_module_version": "1.2.0",
            "_model_module": "@jupyter-widgets/controls"
          }
        },
        "9eb54e6045d0430cb25ec01eb8688f95": {
          "model_module": "@jupyter-widgets/base",
          "model_name": "LayoutModel",
          "model_module_version": "1.2.0",
          "state": {
            "_view_name": "LayoutView",
            "grid_template_rows": null,
            "right": null,
            "justify_content": null,
            "_view_module": "@jupyter-widgets/base",
            "overflow": null,
            "_model_module_version": "1.2.0",
            "_view_count": null,
            "flex_flow": null,
            "width": null,
            "min_width": null,
            "border": null,
            "align_items": null,
            "bottom": null,
            "_model_module": "@jupyter-widgets/base",
            "top": null,
            "grid_column": null,
            "overflow_y": null,
            "overflow_x": null,
            "grid_auto_flow": null,
            "grid_area": null,
            "grid_template_columns": null,
            "flex": null,
            "_model_name": "LayoutModel",
            "justify_items": null,
            "grid_row": null,
            "max_height": null,
            "align_content": null,
            "visibility": null,
            "align_self": null,
            "height": null,
            "min_height": null,
            "padding": null,
            "grid_auto_rows": null,
            "grid_gap": null,
            "max_width": null,
            "order": null,
            "_view_module_version": "1.2.0",
            "grid_template_areas": null,
            "object_position": null,
            "object_fit": null,
            "grid_auto_columns": null,
            "margin": null,
            "display": null,
            "left": null
          }
        },
        "f0c786a22eaa461197c8865bfcbd955d": {
          "model_module": "@jupyter-widgets/controls",
          "model_name": "ProgressStyleModel",
          "model_module_version": "1.5.0",
          "state": {
            "_view_name": "StyleView",
            "_model_name": "ProgressStyleModel",
            "description_width": "",
            "_view_module": "@jupyter-widgets/base",
            "_model_module_version": "1.5.0",
            "_view_count": null,
            "_view_module_version": "1.2.0",
            "bar_color": null,
            "_model_module": "@jupyter-widgets/controls"
          }
        },
        "af5c4e9a38af4133ad2f4f020ec82179": {
          "model_module": "@jupyter-widgets/base",
          "model_name": "LayoutModel",
          "model_module_version": "1.2.0",
          "state": {
            "_view_name": "LayoutView",
            "grid_template_rows": null,
            "right": null,
            "justify_content": null,
            "_view_module": "@jupyter-widgets/base",
            "overflow": null,
            "_model_module_version": "1.2.0",
            "_view_count": null,
            "flex_flow": null,
            "width": null,
            "min_width": null,
            "border": null,
            "align_items": null,
            "bottom": null,
            "_model_module": "@jupyter-widgets/base",
            "top": null,
            "grid_column": null,
            "overflow_y": null,
            "overflow_x": null,
            "grid_auto_flow": null,
            "grid_area": null,
            "grid_template_columns": null,
            "flex": null,
            "_model_name": "LayoutModel",
            "justify_items": null,
            "grid_row": null,
            "max_height": null,
            "align_content": null,
            "visibility": null,
            "align_self": null,
            "height": null,
            "min_height": null,
            "padding": null,
            "grid_auto_rows": null,
            "grid_gap": null,
            "max_width": null,
            "order": null,
            "_view_module_version": "1.2.0",
            "grid_template_areas": null,
            "object_position": null,
            "object_fit": null,
            "grid_auto_columns": null,
            "margin": null,
            "display": null,
            "left": null
          }
        },
        "5d5b2b55f169470ca645fbbd86170a6c": {
          "model_module": "@jupyter-widgets/controls",
          "model_name": "DescriptionStyleModel",
          "model_module_version": "1.5.0",
          "state": {
            "_view_name": "StyleView",
            "_model_name": "DescriptionStyleModel",
            "description_width": "",
            "_view_module": "@jupyter-widgets/base",
            "_model_module_version": "1.5.0",
            "_view_count": null,
            "_view_module_version": "1.2.0",
            "_model_module": "@jupyter-widgets/controls"
          }
        },
        "79e86ef5938d450f9497ddff134b25d4": {
          "model_module": "@jupyter-widgets/base",
          "model_name": "LayoutModel",
          "model_module_version": "1.2.0",
          "state": {
            "_view_name": "LayoutView",
            "grid_template_rows": null,
            "right": null,
            "justify_content": null,
            "_view_module": "@jupyter-widgets/base",
            "overflow": null,
            "_model_module_version": "1.2.0",
            "_view_count": null,
            "flex_flow": null,
            "width": null,
            "min_width": null,
            "border": null,
            "align_items": null,
            "bottom": null,
            "_model_module": "@jupyter-widgets/base",
            "top": null,
            "grid_column": null,
            "overflow_y": null,
            "overflow_x": null,
            "grid_auto_flow": null,
            "grid_area": null,
            "grid_template_columns": null,
            "flex": null,
            "_model_name": "LayoutModel",
            "justify_items": null,
            "grid_row": null,
            "max_height": null,
            "align_content": null,
            "visibility": null,
            "align_self": null,
            "height": null,
            "min_height": null,
            "padding": null,
            "grid_auto_rows": null,
            "grid_gap": null,
            "max_width": null,
            "order": null,
            "_view_module_version": "1.2.0",
            "grid_template_areas": null,
            "object_position": null,
            "object_fit": null,
            "grid_auto_columns": null,
            "margin": null,
            "display": null,
            "left": null
          }
        },
        "15ee63afb6f944cb98e332454be03b81": {
          "model_module": "@jupyter-widgets/controls",
          "model_name": "HBoxModel",
          "model_module_version": "1.5.0",
          "state": {
            "_view_name": "HBoxView",
            "_dom_classes": [],
            "_model_name": "HBoxModel",
            "_view_module": "@jupyter-widgets/controls",
            "_model_module_version": "1.5.0",
            "_view_count": null,
            "_view_module_version": "1.5.0",
            "box_style": "",
            "layout": "IPY_MODEL_bd183067b5f44f1090d0d5271338c777",
            "_model_module": "@jupyter-widgets/controls",
            "children": [
              "IPY_MODEL_1a70ba69e5ef4606ba2d3e814eb97490",
              "IPY_MODEL_646db0bcc37f4d1a9301dc916bac076b",
              "IPY_MODEL_7172a82cca9647518d7f087affd0a287"
            ]
          }
        },
        "bd183067b5f44f1090d0d5271338c777": {
          "model_module": "@jupyter-widgets/base",
          "model_name": "LayoutModel",
          "model_module_version": "1.2.0",
          "state": {
            "_view_name": "LayoutView",
            "grid_template_rows": null,
            "right": null,
            "justify_content": null,
            "_view_module": "@jupyter-widgets/base",
            "overflow": null,
            "_model_module_version": "1.2.0",
            "_view_count": null,
            "flex_flow": null,
            "width": null,
            "min_width": null,
            "border": null,
            "align_items": null,
            "bottom": null,
            "_model_module": "@jupyter-widgets/base",
            "top": null,
            "grid_column": null,
            "overflow_y": null,
            "overflow_x": null,
            "grid_auto_flow": null,
            "grid_area": null,
            "grid_template_columns": null,
            "flex": null,
            "_model_name": "LayoutModel",
            "justify_items": null,
            "grid_row": null,
            "max_height": null,
            "align_content": null,
            "visibility": null,
            "align_self": null,
            "height": null,
            "min_height": null,
            "padding": null,
            "grid_auto_rows": null,
            "grid_gap": null,
            "max_width": null,
            "order": null,
            "_view_module_version": "1.2.0",
            "grid_template_areas": null,
            "object_position": null,
            "object_fit": null,
            "grid_auto_columns": null,
            "margin": null,
            "display": null,
            "left": null
          }
        },
        "1a70ba69e5ef4606ba2d3e814eb97490": {
          "model_module": "@jupyter-widgets/controls",
          "model_name": "HTMLModel",
          "model_module_version": "1.5.0",
          "state": {
            "_view_name": "HTMLView",
            "style": "IPY_MODEL_7b5655d89e0744dfa174cb54acaf3c42",
            "_dom_classes": [],
            "description": "",
            "_model_name": "HTMLModel",
            "placeholder": "​",
            "_view_module": "@jupyter-widgets/controls",
            "_model_module_version": "1.5.0",
            "value": "100%",
            "_view_count": null,
            "_view_module_version": "1.5.0",
            "description_tooltip": null,
            "_model_module": "@jupyter-widgets/controls",
            "layout": "IPY_MODEL_9f43b89cc68f4d998656be3ea6b04858"
          }
        },
        "646db0bcc37f4d1a9301dc916bac076b": {
          "model_module": "@jupyter-widgets/controls",
          "model_name": "FloatProgressModel",
          "model_module_version": "1.5.0",
          "state": {
            "_view_name": "ProgressView",
            "style": "IPY_MODEL_4ea3fe4ffe0a445dbdb47717e121bb26",
            "_dom_classes": [],
            "description": "",
            "_model_name": "FloatProgressModel",
            "bar_style": "success",
            "max": 6826,
            "_view_module": "@jupyter-widgets/controls",
            "_model_module_version": "1.5.0",
            "value": 6826,
            "_view_count": null,
            "_view_module_version": "1.5.0",
            "orientation": "horizontal",
            "min": 0,
            "description_tooltip": null,
            "_model_module": "@jupyter-widgets/controls",
            "layout": "IPY_MODEL_f47474c7b01441508197e233f8700d40"
          }
        },
        "7172a82cca9647518d7f087affd0a287": {
          "model_module": "@jupyter-widgets/controls",
          "model_name": "HTMLModel",
          "model_module_version": "1.5.0",
          "state": {
            "_view_name": "HTMLView",
            "style": "IPY_MODEL_f040072b2698401394b3498b4ca024eb",
            "_dom_classes": [],
            "description": "",
            "_model_name": "HTMLModel",
            "placeholder": "​",
            "_view_module": "@jupyter-widgets/controls",
            "_model_module_version": "1.5.0",
            "value": " 6826/6826 [00:00&lt;00:00, 14657.55it/s]",
            "_view_count": null,
            "_view_module_version": "1.5.0",
            "description_tooltip": null,
            "_model_module": "@jupyter-widgets/controls",
            "layout": "IPY_MODEL_a16be823e5264669b80b0e1be944fcfa"
          }
        },
        "7b5655d89e0744dfa174cb54acaf3c42": {
          "model_module": "@jupyter-widgets/controls",
          "model_name": "DescriptionStyleModel",
          "model_module_version": "1.5.0",
          "state": {
            "_view_name": "StyleView",
            "_model_name": "DescriptionStyleModel",
            "description_width": "",
            "_view_module": "@jupyter-widgets/base",
            "_model_module_version": "1.5.0",
            "_view_count": null,
            "_view_module_version": "1.2.0",
            "_model_module": "@jupyter-widgets/controls"
          }
        },
        "9f43b89cc68f4d998656be3ea6b04858": {
          "model_module": "@jupyter-widgets/base",
          "model_name": "LayoutModel",
          "model_module_version": "1.2.0",
          "state": {
            "_view_name": "LayoutView",
            "grid_template_rows": null,
            "right": null,
            "justify_content": null,
            "_view_module": "@jupyter-widgets/base",
            "overflow": null,
            "_model_module_version": "1.2.0",
            "_view_count": null,
            "flex_flow": null,
            "width": null,
            "min_width": null,
            "border": null,
            "align_items": null,
            "bottom": null,
            "_model_module": "@jupyter-widgets/base",
            "top": null,
            "grid_column": null,
            "overflow_y": null,
            "overflow_x": null,
            "grid_auto_flow": null,
            "grid_area": null,
            "grid_template_columns": null,
            "flex": null,
            "_model_name": "LayoutModel",
            "justify_items": null,
            "grid_row": null,
            "max_height": null,
            "align_content": null,
            "visibility": null,
            "align_self": null,
            "height": null,
            "min_height": null,
            "padding": null,
            "grid_auto_rows": null,
            "grid_gap": null,
            "max_width": null,
            "order": null,
            "_view_module_version": "1.2.0",
            "grid_template_areas": null,
            "object_position": null,
            "object_fit": null,
            "grid_auto_columns": null,
            "margin": null,
            "display": null,
            "left": null
          }
        },
        "4ea3fe4ffe0a445dbdb47717e121bb26": {
          "model_module": "@jupyter-widgets/controls",
          "model_name": "ProgressStyleModel",
          "model_module_version": "1.5.0",
          "state": {
            "_view_name": "StyleView",
            "_model_name": "ProgressStyleModel",
            "description_width": "",
            "_view_module": "@jupyter-widgets/base",
            "_model_module_version": "1.5.0",
            "_view_count": null,
            "_view_module_version": "1.2.0",
            "bar_color": null,
            "_model_module": "@jupyter-widgets/controls"
          }
        },
        "f47474c7b01441508197e233f8700d40": {
          "model_module": "@jupyter-widgets/base",
          "model_name": "LayoutModel",
          "model_module_version": "1.2.0",
          "state": {
            "_view_name": "LayoutView",
            "grid_template_rows": null,
            "right": null,
            "justify_content": null,
            "_view_module": "@jupyter-widgets/base",
            "overflow": null,
            "_model_module_version": "1.2.0",
            "_view_count": null,
            "flex_flow": null,
            "width": null,
            "min_width": null,
            "border": null,
            "align_items": null,
            "bottom": null,
            "_model_module": "@jupyter-widgets/base",
            "top": null,
            "grid_column": null,
            "overflow_y": null,
            "overflow_x": null,
            "grid_auto_flow": null,
            "grid_area": null,
            "grid_template_columns": null,
            "flex": null,
            "_model_name": "LayoutModel",
            "justify_items": null,
            "grid_row": null,
            "max_height": null,
            "align_content": null,
            "visibility": null,
            "align_self": null,
            "height": null,
            "min_height": null,
            "padding": null,
            "grid_auto_rows": null,
            "grid_gap": null,
            "max_width": null,
            "order": null,
            "_view_module_version": "1.2.0",
            "grid_template_areas": null,
            "object_position": null,
            "object_fit": null,
            "grid_auto_columns": null,
            "margin": null,
            "display": null,
            "left": null
          }
        },
        "f040072b2698401394b3498b4ca024eb": {
          "model_module": "@jupyter-widgets/controls",
          "model_name": "DescriptionStyleModel",
          "model_module_version": "1.5.0",
          "state": {
            "_view_name": "StyleView",
            "_model_name": "DescriptionStyleModel",
            "description_width": "",
            "_view_module": "@jupyter-widgets/base",
            "_model_module_version": "1.5.0",
            "_view_count": null,
            "_view_module_version": "1.2.0",
            "_model_module": "@jupyter-widgets/controls"
          }
        },
        "a16be823e5264669b80b0e1be944fcfa": {
          "model_module": "@jupyter-widgets/base",
          "model_name": "LayoutModel",
          "model_module_version": "1.2.0",
          "state": {
            "_view_name": "LayoutView",
            "grid_template_rows": null,
            "right": null,
            "justify_content": null,
            "_view_module": "@jupyter-widgets/base",
            "overflow": null,
            "_model_module_version": "1.2.0",
            "_view_count": null,
            "flex_flow": null,
            "width": null,
            "min_width": null,
            "border": null,
            "align_items": null,
            "bottom": null,
            "_model_module": "@jupyter-widgets/base",
            "top": null,
            "grid_column": null,
            "overflow_y": null,
            "overflow_x": null,
            "grid_auto_flow": null,
            "grid_area": null,
            "grid_template_columns": null,
            "flex": null,
            "_model_name": "LayoutModel",
            "justify_items": null,
            "grid_row": null,
            "max_height": null,
            "align_content": null,
            "visibility": null,
            "align_self": null,
            "height": null,
            "min_height": null,
            "padding": null,
            "grid_auto_rows": null,
            "grid_gap": null,
            "max_width": null,
            "order": null,
            "_view_module_version": "1.2.0",
            "grid_template_areas": null,
            "object_position": null,
            "object_fit": null,
            "grid_auto_columns": null,
            "margin": null,
            "display": null,
            "left": null
          }
        }
      }
    }
  },
  "cells": [
    {
      "cell_type": "markdown",
      "metadata": {
        "id": "view-in-github",
        "colab_type": "text"
      },
      "source": [
        "<a href=\"https://colab.research.google.com/github/PasechnikDarya/ML-practice/blob/main/lstm_bitcoin_price.ipynb\" target=\"_parent\"><img src=\"https://colab.research.google.com/assets/colab-badge.svg\" alt=\"Open In Colab\"/></a>"
      ]
    },
    {
      "cell_type": "code",
      "metadata": {
        "colab": {
          "base_uri": "https://localhost:8080/"
        },
        "id": "YyNA92E5RiLK",
        "outputId": "f3a31d62-6316-44dc-e381-79b50def9413"
      },
      "source": [
        "!pip install --quiet pytorch-lightning==1.2.5"
      ],
      "execution_count": 1,
      "outputs": [
        {
          "output_type": "stream",
          "text": [
            "\u001b[K     |████████████████████████████████| 826 kB 5.2 MB/s \n",
            "\u001b[K     |████████████████████████████████| 272 kB 47.6 MB/s \n",
            "\u001b[K     |████████████████████████████████| 118 kB 53.2 MB/s \n",
            "\u001b[K     |████████████████████████████████| 829 kB 33.1 MB/s \n",
            "\u001b[K     |████████████████████████████████| 269 kB 40.7 MB/s \n",
            "\u001b[K     |████████████████████████████████| 1.3 MB 33.4 MB/s \n",
            "\u001b[K     |████████████████████████████████| 294 kB 45.6 MB/s \n",
            "\u001b[K     |████████████████████████████████| 142 kB 49.9 MB/s \n",
            "\u001b[?25h  Building wheel for future (setup.py) ... \u001b[?25l\u001b[?25hdone\n",
            "  Building wheel for PyYAML (setup.py) ... \u001b[?25l\u001b[?25hdone\n"
          ],
          "name": "stdout"
        }
      ]
    },
    {
      "cell_type": "code",
      "metadata": {
        "id": "IB1uFPC6TNJ_"
      },
      "source": [
        "import seaborn as sns\n",
        "import matplotlib.pyplot as plt\n",
        "import matplotlib\n",
        "import math\n",
        "\n",
        "import pandas as pd\n",
        "import numpy as np\n",
        "\n",
        "import pytorch_lightning as pl\n",
        "import torch\n",
        "import torch.autograd as autograd\n",
        "import torch.nn as nn\n",
        "import torch.nn.functional as F\n",
        "import torch.optim as optim\n",
        "\n",
        "from pylab import rcParams\n",
        "from matplotlib import rc\n",
        "from sklearn.preprocessing import MinMaxScaler\n",
        "from torch.utils.data import Dataset, DataLoader\n",
        "from pytorch_lightning.callbacks import ModelCheckpoint, EarlyStopping\n",
        "from pytorch_lightning.loggers import TensorBoardLogger\n",
        "\n",
        "from tqdm.notebook import tqdm\n"
      ],
      "execution_count": 41,
      "outputs": []
    },
    {
      "cell_type": "code",
      "metadata": {
        "id": "GjbaGI9wUpkz"
      },
      "source": [
        "%matplotlib inline\n",
        "%config InlineBackend.figure_format='retina'\n",
        "\n",
        "sns.set(style='whitegrid', font_scale=1.2)\n",
        "\n",
        "rcParams['figure.figsize'] = 12, 8\n",
        "\n",
        "tqdm.pandas()"
      ],
      "execution_count": 42,
      "outputs": []
    },
    {
      "cell_type": "code",
      "metadata": {
        "colab": {
          "base_uri": "https://localhost:8080/"
        },
        "id": "vnkTQSlUVcM3",
        "outputId": "ae3ca6aa-1375-4921-ba64-4b178a82e078"
      },
      "source": [
        "pl.seed_everything(42)"
      ],
      "execution_count": 43,
      "outputs": [
        {
          "output_type": "stream",
          "text": [
            "Global seed set to 42\n"
          ],
          "name": "stderr"
        },
        {
          "output_type": "execute_result",
          "data": {
            "text/plain": [
              "42"
            ]
          },
          "metadata": {},
          "execution_count": 43
        }
      ]
    },
    {
      "cell_type": "markdown",
      "metadata": {
        "id": "eM-mnJskWCtj"
      },
      "source": [
        "## Load data"
      ]
    },
    {
      "cell_type": "code",
      "metadata": {
        "id": "UtCveQgaWFno"
      },
      "source": [
        "df = pd.read_csv('Binance_BTCUSDT_minute.csv', skiprows=1, parse_dates=['date'])\n",
        "df = df.sort_values(by='date').reset_index(drop=True)"
      ],
      "execution_count": 5,
      "outputs": []
    },
    {
      "cell_type": "code",
      "metadata": {
        "colab": {
          "base_uri": "https://localhost:8080/"
        },
        "id": "iBgYmNc9XjE7",
        "outputId": "f4c76233-b3cf-4793-da32-b5d4bdf396bb"
      },
      "source": [
        "df.shape"
      ],
      "execution_count": 6,
      "outputs": [
        {
          "output_type": "execute_result",
          "data": {
            "text/plain": [
              "(69459, 10)"
            ]
          },
          "metadata": {},
          "execution_count": 6
        }
      ]
    },
    {
      "cell_type": "code",
      "metadata": {
        "colab": {
          "base_uri": "https://localhost:8080/",
          "height": 419
        },
        "id": "RTZIrskyYBWS",
        "outputId": "1b3c52b3-d21c-41be-f309-b13e5c9fe354"
      },
      "source": [
        "df"
      ],
      "execution_count": 7,
      "outputs": [
        {
          "output_type": "execute_result",
          "data": {
            "text/html": [
              "<div>\n",
              "<style scoped>\n",
              "    .dataframe tbody tr th:only-of-type {\n",
              "        vertical-align: middle;\n",
              "    }\n",
              "\n",
              "    .dataframe tbody tr th {\n",
              "        vertical-align: top;\n",
              "    }\n",
              "\n",
              "    .dataframe thead th {\n",
              "        text-align: right;\n",
              "    }\n",
              "</style>\n",
              "<table border=\"1\" class=\"dataframe\">\n",
              "  <thead>\n",
              "    <tr style=\"text-align: right;\">\n",
              "      <th></th>\n",
              "      <th>unix</th>\n",
              "      <th>date</th>\n",
              "      <th>symbol</th>\n",
              "      <th>open</th>\n",
              "      <th>high</th>\n",
              "      <th>low</th>\n",
              "      <th>close</th>\n",
              "      <th>Volume BTC</th>\n",
              "      <th>Volume USDT</th>\n",
              "      <th>tradecount</th>\n",
              "    </tr>\n",
              "  </thead>\n",
              "  <tbody>\n",
              "    <tr>\n",
              "      <th>0</th>\n",
              "      <td>1625754420000</td>\n",
              "      <td>2021-07-08 14:27:00</td>\n",
              "      <td>BTC/USDT</td>\n",
              "      <td>32584.58</td>\n",
              "      <td>32586.74</td>\n",
              "      <td>32533.49</td>\n",
              "      <td>32553.76</td>\n",
              "      <td>6.000000</td>\n",
              "      <td>NaN</td>\n",
              "      <td>NaN</td>\n",
              "    </tr>\n",
              "    <tr>\n",
              "      <th>1</th>\n",
              "      <td>1625754480000</td>\n",
              "      <td>2021-07-08 14:28:00</td>\n",
              "      <td>BTC/USDT</td>\n",
              "      <td>32553.77</td>\n",
              "      <td>32612.44</td>\n",
              "      <td>32548.27</td>\n",
              "      <td>32607.59</td>\n",
              "      <td>55.069409</td>\n",
              "      <td>1.794269e+06</td>\n",
              "      <td>581.0</td>\n",
              "    </tr>\n",
              "    <tr>\n",
              "      <th>2</th>\n",
              "      <td>1625754540000</td>\n",
              "      <td>2021-07-08 14:29:00</td>\n",
              "      <td>BTC/USDT</td>\n",
              "      <td>32607.59</td>\n",
              "      <td>32650.00</td>\n",
              "      <td>32597.45</td>\n",
              "      <td>32642.31</td>\n",
              "      <td>51.685306</td>\n",
              "      <td>1.686271e+06</td>\n",
              "      <td>814.0</td>\n",
              "    </tr>\n",
              "    <tr>\n",
              "      <th>3</th>\n",
              "      <td>1625754600000</td>\n",
              "      <td>2021-07-08 14:30:00</td>\n",
              "      <td>BTC/USDT</td>\n",
              "      <td>32642.31</td>\n",
              "      <td>32666.00</td>\n",
              "      <td>32610.46</td>\n",
              "      <td>32632.85</td>\n",
              "      <td>52.325956</td>\n",
              "      <td>1.707966e+06</td>\n",
              "      <td>869.0</td>\n",
              "    </tr>\n",
              "    <tr>\n",
              "      <th>4</th>\n",
              "      <td>1625754660000</td>\n",
              "      <td>2021-07-08 14:31:00</td>\n",
              "      <td>BTC/USDT</td>\n",
              "      <td>32631.38</td>\n",
              "      <td>32649.73</td>\n",
              "      <td>32614.47</td>\n",
              "      <td>32645.33</td>\n",
              "      <td>25.485972</td>\n",
              "      <td>8.316624e+05</td>\n",
              "      <td>615.0</td>\n",
              "    </tr>\n",
              "    <tr>\n",
              "      <th>...</th>\n",
              "      <td>...</td>\n",
              "      <td>...</td>\n",
              "      <td>...</td>\n",
              "      <td>...</td>\n",
              "      <td>...</td>\n",
              "      <td>...</td>\n",
              "      <td>...</td>\n",
              "      <td>...</td>\n",
              "      <td>...</td>\n",
              "      <td>...</td>\n",
              "    </tr>\n",
              "    <tr>\n",
              "      <th>69454</th>\n",
              "      <td>1629937860000</td>\n",
              "      <td>2021-08-26 00:31:00</td>\n",
              "      <td>BTC/USDT</td>\n",
              "      <td>49034.00</td>\n",
              "      <td>49077.85</td>\n",
              "      <td>49003.30</td>\n",
              "      <td>49029.00</td>\n",
              "      <td>19.657713</td>\n",
              "      <td>9.641287e+05</td>\n",
              "      <td>945.0</td>\n",
              "    </tr>\n",
              "    <tr>\n",
              "      <th>69455</th>\n",
              "      <td>1629937920000</td>\n",
              "      <td>2021-08-26 00:32:00</td>\n",
              "      <td>BTC/USDT</td>\n",
              "      <td>49029.01</td>\n",
              "      <td>49041.79</td>\n",
              "      <td>48990.01</td>\n",
              "      <td>48999.80</td>\n",
              "      <td>14.685761</td>\n",
              "      <td>7.198294e+05</td>\n",
              "      <td>807.0</td>\n",
              "    </tr>\n",
              "    <tr>\n",
              "      <th>69456</th>\n",
              "      <td>1629937980000</td>\n",
              "      <td>2021-08-26 00:33:00</td>\n",
              "      <td>BTC/USDT</td>\n",
              "      <td>48999.80</td>\n",
              "      <td>49070.25</td>\n",
              "      <td>48983.09</td>\n",
              "      <td>49053.41</td>\n",
              "      <td>24.355314</td>\n",
              "      <td>1.193922e+06</td>\n",
              "      <td>991.0</td>\n",
              "    </tr>\n",
              "    <tr>\n",
              "      <th>69457</th>\n",
              "      <td>1629938040000</td>\n",
              "      <td>2021-08-26 00:34:00</td>\n",
              "      <td>BTC/USDT</td>\n",
              "      <td>49053.40</td>\n",
              "      <td>49053.41</td>\n",
              "      <td>49008.02</td>\n",
              "      <td>49038.72</td>\n",
              "      <td>8.390942</td>\n",
              "      <td>4.114275e+05</td>\n",
              "      <td>634.0</td>\n",
              "    </tr>\n",
              "    <tr>\n",
              "      <th>69458</th>\n",
              "      <td>1629938100000</td>\n",
              "      <td>2021-08-26 00:35:00</td>\n",
              "      <td>BTC/USDT</td>\n",
              "      <td>49038.71</td>\n",
              "      <td>49094.94</td>\n",
              "      <td>49038.71</td>\n",
              "      <td>49081.28</td>\n",
              "      <td>32.403186</td>\n",
              "      <td>1.590056e+06</td>\n",
              "      <td>1136.0</td>\n",
              "    </tr>\n",
              "  </tbody>\n",
              "</table>\n",
              "<p>69459 rows × 10 columns</p>\n",
              "</div>"
            ],
            "text/plain": [
              "                unix                date  ...   Volume USDT  tradecount\n",
              "0      1625754420000 2021-07-08 14:27:00  ...           NaN         NaN\n",
              "1      1625754480000 2021-07-08 14:28:00  ...  1.794269e+06       581.0\n",
              "2      1625754540000 2021-07-08 14:29:00  ...  1.686271e+06       814.0\n",
              "3      1625754600000 2021-07-08 14:30:00  ...  1.707966e+06       869.0\n",
              "4      1625754660000 2021-07-08 14:31:00  ...  8.316624e+05       615.0\n",
              "...              ...                 ...  ...           ...         ...\n",
              "69454  1629937860000 2021-08-26 00:31:00  ...  9.641287e+05       945.0\n",
              "69455  1629937920000 2021-08-26 00:32:00  ...  7.198294e+05       807.0\n",
              "69456  1629937980000 2021-08-26 00:33:00  ...  1.193922e+06       991.0\n",
              "69457  1629938040000 2021-08-26 00:34:00  ...  4.114275e+05       634.0\n",
              "69458  1629938100000 2021-08-26 00:35:00  ...  1.590056e+06      1136.0\n",
              "\n",
              "[69459 rows x 10 columns]"
            ]
          },
          "metadata": {},
          "execution_count": 7
        }
      ]
    },
    {
      "cell_type": "markdown",
      "metadata": {
        "id": "tl9NiS7war8T"
      },
      "source": [
        "# Preprocessing"
      ]
    },
    {
      "cell_type": "code",
      "metadata": {
        "colab": {
          "base_uri": "https://localhost:8080/",
          "height": 204
        },
        "id": "wJHYRA5WY73L",
        "outputId": "c11ebf0e-1ae5-4ced-ffcd-8d203d39a978"
      },
      "source": [
        "df['prev_close'] = df.shift(1)['close']\n",
        "df.head()"
      ],
      "execution_count": 8,
      "outputs": [
        {
          "output_type": "execute_result",
          "data": {
            "text/html": [
              "<div>\n",
              "<style scoped>\n",
              "    .dataframe tbody tr th:only-of-type {\n",
              "        vertical-align: middle;\n",
              "    }\n",
              "\n",
              "    .dataframe tbody tr th {\n",
              "        vertical-align: top;\n",
              "    }\n",
              "\n",
              "    .dataframe thead th {\n",
              "        text-align: right;\n",
              "    }\n",
              "</style>\n",
              "<table border=\"1\" class=\"dataframe\">\n",
              "  <thead>\n",
              "    <tr style=\"text-align: right;\">\n",
              "      <th></th>\n",
              "      <th>unix</th>\n",
              "      <th>date</th>\n",
              "      <th>symbol</th>\n",
              "      <th>open</th>\n",
              "      <th>high</th>\n",
              "      <th>low</th>\n",
              "      <th>close</th>\n",
              "      <th>Volume BTC</th>\n",
              "      <th>Volume USDT</th>\n",
              "      <th>tradecount</th>\n",
              "      <th>prev_close</th>\n",
              "    </tr>\n",
              "  </thead>\n",
              "  <tbody>\n",
              "    <tr>\n",
              "      <th>0</th>\n",
              "      <td>1625754420000</td>\n",
              "      <td>2021-07-08 14:27:00</td>\n",
              "      <td>BTC/USDT</td>\n",
              "      <td>32584.58</td>\n",
              "      <td>32586.74</td>\n",
              "      <td>32533.49</td>\n",
              "      <td>32553.76</td>\n",
              "      <td>6.000000</td>\n",
              "      <td>NaN</td>\n",
              "      <td>NaN</td>\n",
              "      <td>NaN</td>\n",
              "    </tr>\n",
              "    <tr>\n",
              "      <th>1</th>\n",
              "      <td>1625754480000</td>\n",
              "      <td>2021-07-08 14:28:00</td>\n",
              "      <td>BTC/USDT</td>\n",
              "      <td>32553.77</td>\n",
              "      <td>32612.44</td>\n",
              "      <td>32548.27</td>\n",
              "      <td>32607.59</td>\n",
              "      <td>55.069409</td>\n",
              "      <td>1.794269e+06</td>\n",
              "      <td>581.0</td>\n",
              "      <td>32553.76</td>\n",
              "    </tr>\n",
              "    <tr>\n",
              "      <th>2</th>\n",
              "      <td>1625754540000</td>\n",
              "      <td>2021-07-08 14:29:00</td>\n",
              "      <td>BTC/USDT</td>\n",
              "      <td>32607.59</td>\n",
              "      <td>32650.00</td>\n",
              "      <td>32597.45</td>\n",
              "      <td>32642.31</td>\n",
              "      <td>51.685306</td>\n",
              "      <td>1.686271e+06</td>\n",
              "      <td>814.0</td>\n",
              "      <td>32607.59</td>\n",
              "    </tr>\n",
              "    <tr>\n",
              "      <th>3</th>\n",
              "      <td>1625754600000</td>\n",
              "      <td>2021-07-08 14:30:00</td>\n",
              "      <td>BTC/USDT</td>\n",
              "      <td>32642.31</td>\n",
              "      <td>32666.00</td>\n",
              "      <td>32610.46</td>\n",
              "      <td>32632.85</td>\n",
              "      <td>52.325956</td>\n",
              "      <td>1.707966e+06</td>\n",
              "      <td>869.0</td>\n",
              "      <td>32642.31</td>\n",
              "    </tr>\n",
              "    <tr>\n",
              "      <th>4</th>\n",
              "      <td>1625754660000</td>\n",
              "      <td>2021-07-08 14:31:00</td>\n",
              "      <td>BTC/USDT</td>\n",
              "      <td>32631.38</td>\n",
              "      <td>32649.73</td>\n",
              "      <td>32614.47</td>\n",
              "      <td>32645.33</td>\n",
              "      <td>25.485972</td>\n",
              "      <td>8.316624e+05</td>\n",
              "      <td>615.0</td>\n",
              "      <td>32632.85</td>\n",
              "    </tr>\n",
              "  </tbody>\n",
              "</table>\n",
              "</div>"
            ],
            "text/plain": [
              "            unix                date  ... tradecount  prev_close\n",
              "0  1625754420000 2021-07-08 14:27:00  ...        NaN         NaN\n",
              "1  1625754480000 2021-07-08 14:28:00  ...      581.0    32553.76\n",
              "2  1625754540000 2021-07-08 14:29:00  ...      814.0    32607.59\n",
              "3  1625754600000 2021-07-08 14:30:00  ...      869.0    32642.31\n",
              "4  1625754660000 2021-07-08 14:31:00  ...      615.0    32632.85\n",
              "\n",
              "[5 rows x 11 columns]"
            ]
          },
          "metadata": {},
          "execution_count": 8
        }
      ]
    },
    {
      "cell_type": "code",
      "metadata": {
        "colab": {
          "base_uri": "https://localhost:8080/",
          "height": 49,
          "referenced_widgets": [
            "636f1e6dab774a1f91b635be88fc3c9d",
            "be9500d6676b46fc907565b12548ffb4",
            "ad530099d7064df993332813699c6e8b",
            "fdf18f928376473a89fc56a87b23d16d",
            "f1a94267899a42cab4e85c63273beebd",
            "e006e9fba85d4eaca2907a982b0e6f64",
            "f58fff198f2b46268e63f29a2ee1015a",
            "e7411eef3a3047e2bb66c50d486b5d0f",
            "49c49cc8ab564dda858dfd6686bec0f0",
            "7578c394c8094332acaaba14e730fa7d",
            "f08d2da005a9453ca9822f3cd7116478"
          ]
        },
        "id": "aW4mxDQlbTVd",
        "outputId": "943bc6ab-934e-485b-b7b8-75a81162e73e"
      },
      "source": [
        "df['close_change'] = df.progress_apply(\n",
        "    lambda row: 0 if np.isnan(row.prev_close) else row.close - row.prev_close,\n",
        "    axis=1\n",
        ")"
      ],
      "execution_count": 9,
      "outputs": [
        {
          "output_type": "display_data",
          "data": {
            "application/vnd.jupyter.widget-view+json": {
              "model_id": "636f1e6dab774a1f91b635be88fc3c9d",
              "version_minor": 0,
              "version_major": 2
            },
            "text/plain": [
              "  0%|          | 0/69459 [00:00<?, ?it/s]"
            ]
          },
          "metadata": {}
        }
      ]
    },
    {
      "cell_type": "code",
      "metadata": {
        "colab": {
          "base_uri": "https://localhost:8080/",
          "height": 204
        },
        "id": "jlVAyCrWb3Ye",
        "outputId": "667add6a-054c-43c5-9ab4-ea04766895d2"
      },
      "source": [
        "df.head()"
      ],
      "execution_count": 10,
      "outputs": [
        {
          "output_type": "execute_result",
          "data": {
            "text/html": [
              "<div>\n",
              "<style scoped>\n",
              "    .dataframe tbody tr th:only-of-type {\n",
              "        vertical-align: middle;\n",
              "    }\n",
              "\n",
              "    .dataframe tbody tr th {\n",
              "        vertical-align: top;\n",
              "    }\n",
              "\n",
              "    .dataframe thead th {\n",
              "        text-align: right;\n",
              "    }\n",
              "</style>\n",
              "<table border=\"1\" class=\"dataframe\">\n",
              "  <thead>\n",
              "    <tr style=\"text-align: right;\">\n",
              "      <th></th>\n",
              "      <th>unix</th>\n",
              "      <th>date</th>\n",
              "      <th>symbol</th>\n",
              "      <th>open</th>\n",
              "      <th>high</th>\n",
              "      <th>low</th>\n",
              "      <th>close</th>\n",
              "      <th>Volume BTC</th>\n",
              "      <th>Volume USDT</th>\n",
              "      <th>tradecount</th>\n",
              "      <th>prev_close</th>\n",
              "      <th>close_change</th>\n",
              "    </tr>\n",
              "  </thead>\n",
              "  <tbody>\n",
              "    <tr>\n",
              "      <th>0</th>\n",
              "      <td>1625754420000</td>\n",
              "      <td>2021-07-08 14:27:00</td>\n",
              "      <td>BTC/USDT</td>\n",
              "      <td>32584.58</td>\n",
              "      <td>32586.74</td>\n",
              "      <td>32533.49</td>\n",
              "      <td>32553.76</td>\n",
              "      <td>6.000000</td>\n",
              "      <td>NaN</td>\n",
              "      <td>NaN</td>\n",
              "      <td>NaN</td>\n",
              "      <td>0.00</td>\n",
              "    </tr>\n",
              "    <tr>\n",
              "      <th>1</th>\n",
              "      <td>1625754480000</td>\n",
              "      <td>2021-07-08 14:28:00</td>\n",
              "      <td>BTC/USDT</td>\n",
              "      <td>32553.77</td>\n",
              "      <td>32612.44</td>\n",
              "      <td>32548.27</td>\n",
              "      <td>32607.59</td>\n",
              "      <td>55.069409</td>\n",
              "      <td>1.794269e+06</td>\n",
              "      <td>581.0</td>\n",
              "      <td>32553.76</td>\n",
              "      <td>53.83</td>\n",
              "    </tr>\n",
              "    <tr>\n",
              "      <th>2</th>\n",
              "      <td>1625754540000</td>\n",
              "      <td>2021-07-08 14:29:00</td>\n",
              "      <td>BTC/USDT</td>\n",
              "      <td>32607.59</td>\n",
              "      <td>32650.00</td>\n",
              "      <td>32597.45</td>\n",
              "      <td>32642.31</td>\n",
              "      <td>51.685306</td>\n",
              "      <td>1.686271e+06</td>\n",
              "      <td>814.0</td>\n",
              "      <td>32607.59</td>\n",
              "      <td>34.72</td>\n",
              "    </tr>\n",
              "    <tr>\n",
              "      <th>3</th>\n",
              "      <td>1625754600000</td>\n",
              "      <td>2021-07-08 14:30:00</td>\n",
              "      <td>BTC/USDT</td>\n",
              "      <td>32642.31</td>\n",
              "      <td>32666.00</td>\n",
              "      <td>32610.46</td>\n",
              "      <td>32632.85</td>\n",
              "      <td>52.325956</td>\n",
              "      <td>1.707966e+06</td>\n",
              "      <td>869.0</td>\n",
              "      <td>32642.31</td>\n",
              "      <td>-9.46</td>\n",
              "    </tr>\n",
              "    <tr>\n",
              "      <th>4</th>\n",
              "      <td>1625754660000</td>\n",
              "      <td>2021-07-08 14:31:00</td>\n",
              "      <td>BTC/USDT</td>\n",
              "      <td>32631.38</td>\n",
              "      <td>32649.73</td>\n",
              "      <td>32614.47</td>\n",
              "      <td>32645.33</td>\n",
              "      <td>25.485972</td>\n",
              "      <td>8.316624e+05</td>\n",
              "      <td>615.0</td>\n",
              "      <td>32632.85</td>\n",
              "      <td>12.48</td>\n",
              "    </tr>\n",
              "  </tbody>\n",
              "</table>\n",
              "</div>"
            ],
            "text/plain": [
              "            unix                date  ... prev_close  close_change\n",
              "0  1625754420000 2021-07-08 14:27:00  ...        NaN          0.00\n",
              "1  1625754480000 2021-07-08 14:28:00  ...   32553.76         53.83\n",
              "2  1625754540000 2021-07-08 14:29:00  ...   32607.59         34.72\n",
              "3  1625754600000 2021-07-08 14:30:00  ...   32642.31         -9.46\n",
              "4  1625754660000 2021-07-08 14:31:00  ...   32632.85         12.48\n",
              "\n",
              "[5 rows x 12 columns]"
            ]
          },
          "metadata": {},
          "execution_count": 10
        }
      ]
    },
    {
      "cell_type": "code",
      "metadata": {
        "colab": {
          "base_uri": "https://localhost:8080/",
          "height": 49,
          "referenced_widgets": [
            "3f107c1cee8840519c6cedd2ef24293b",
            "6124690003d446259c9326a8b771dce1",
            "53b0f8a62b914f1a902cf82410fb6024",
            "5e081093830c44c58a717c33de98c9d7",
            "25b8997aac684c799ae2ed7ec1d28254",
            "addbb57aef35467ebbd1c2ad15e13a78",
            "e82217c7ba0b49a9ae9a28034531c021",
            "58a5e8edec93423187dfead1ed95b52f",
            "a2c5a011bb6145db9e0f82e7a12d618b",
            "6bcf72dda3184ffc875eee796af2a5bd",
            "9ca9d46a79b24c378c1c9c59175976c4"
          ]
        },
        "id": "2JGLLlWFcNlg",
        "outputId": "776f8a25-6d7b-4867-e7b2-aac9179f40fe"
      },
      "source": [
        "rows = []\n",
        "\n",
        "for _, row in tqdm(df.iterrows(), total=df.shape[0]):\n",
        "    row_data = dict(\n",
        "        day_of_week = row.date.dayofweek,\n",
        "        day_of_month = row.date.day,\n",
        "        week_of_year = row.date.week,\n",
        "        month = row.date.month,\n",
        "        open = row.open,\n",
        "        high = row.high,\n",
        "        low = row.low,\n",
        "        close_change = row.close_change,\n",
        "        close = row.close\n",
        "    )\n",
        "    rows.append(row_data)"
      ],
      "execution_count": 11,
      "outputs": [
        {
          "output_type": "display_data",
          "data": {
            "application/vnd.jupyter.widget-view+json": {
              "model_id": "3f107c1cee8840519c6cedd2ef24293b",
              "version_minor": 0,
              "version_major": 2
            },
            "text/plain": [
              "  0%|          | 0/69459 [00:00<?, ?it/s]"
            ]
          },
          "metadata": {}
        }
      ]
    },
    {
      "cell_type": "code",
      "metadata": {
        "colab": {
          "base_uri": "https://localhost:8080/",
          "height": 204
        },
        "id": "S6dERe6Lc3Dm",
        "outputId": "e6466a80-af97-4733-9696-71687cbabc52"
      },
      "source": [
        "features_df = pd.DataFrame(rows)\n",
        "features_df.head()"
      ],
      "execution_count": 12,
      "outputs": [
        {
          "output_type": "execute_result",
          "data": {
            "text/html": [
              "<div>\n",
              "<style scoped>\n",
              "    .dataframe tbody tr th:only-of-type {\n",
              "        vertical-align: middle;\n",
              "    }\n",
              "\n",
              "    .dataframe tbody tr th {\n",
              "        vertical-align: top;\n",
              "    }\n",
              "\n",
              "    .dataframe thead th {\n",
              "        text-align: right;\n",
              "    }\n",
              "</style>\n",
              "<table border=\"1\" class=\"dataframe\">\n",
              "  <thead>\n",
              "    <tr style=\"text-align: right;\">\n",
              "      <th></th>\n",
              "      <th>day_of_week</th>\n",
              "      <th>day_of_month</th>\n",
              "      <th>week_of_year</th>\n",
              "      <th>month</th>\n",
              "      <th>open</th>\n",
              "      <th>high</th>\n",
              "      <th>low</th>\n",
              "      <th>close_change</th>\n",
              "      <th>close</th>\n",
              "    </tr>\n",
              "  </thead>\n",
              "  <tbody>\n",
              "    <tr>\n",
              "      <th>0</th>\n",
              "      <td>3</td>\n",
              "      <td>8</td>\n",
              "      <td>27</td>\n",
              "      <td>7</td>\n",
              "      <td>32584.58</td>\n",
              "      <td>32586.74</td>\n",
              "      <td>32533.49</td>\n",
              "      <td>0.00</td>\n",
              "      <td>32553.76</td>\n",
              "    </tr>\n",
              "    <tr>\n",
              "      <th>1</th>\n",
              "      <td>3</td>\n",
              "      <td>8</td>\n",
              "      <td>27</td>\n",
              "      <td>7</td>\n",
              "      <td>32553.77</td>\n",
              "      <td>32612.44</td>\n",
              "      <td>32548.27</td>\n",
              "      <td>53.83</td>\n",
              "      <td>32607.59</td>\n",
              "    </tr>\n",
              "    <tr>\n",
              "      <th>2</th>\n",
              "      <td>3</td>\n",
              "      <td>8</td>\n",
              "      <td>27</td>\n",
              "      <td>7</td>\n",
              "      <td>32607.59</td>\n",
              "      <td>32650.00</td>\n",
              "      <td>32597.45</td>\n",
              "      <td>34.72</td>\n",
              "      <td>32642.31</td>\n",
              "    </tr>\n",
              "    <tr>\n",
              "      <th>3</th>\n",
              "      <td>3</td>\n",
              "      <td>8</td>\n",
              "      <td>27</td>\n",
              "      <td>7</td>\n",
              "      <td>32642.31</td>\n",
              "      <td>32666.00</td>\n",
              "      <td>32610.46</td>\n",
              "      <td>-9.46</td>\n",
              "      <td>32632.85</td>\n",
              "    </tr>\n",
              "    <tr>\n",
              "      <th>4</th>\n",
              "      <td>3</td>\n",
              "      <td>8</td>\n",
              "      <td>27</td>\n",
              "      <td>7</td>\n",
              "      <td>32631.38</td>\n",
              "      <td>32649.73</td>\n",
              "      <td>32614.47</td>\n",
              "      <td>12.48</td>\n",
              "      <td>32645.33</td>\n",
              "    </tr>\n",
              "  </tbody>\n",
              "</table>\n",
              "</div>"
            ],
            "text/plain": [
              "   day_of_week  day_of_month  week_of_year  ...       low  close_change     close\n",
              "0            3             8            27  ...  32533.49          0.00  32553.76\n",
              "1            3             8            27  ...  32548.27         53.83  32607.59\n",
              "2            3             8            27  ...  32597.45         34.72  32642.31\n",
              "3            3             8            27  ...  32610.46         -9.46  32632.85\n",
              "4            3             8            27  ...  32614.47         12.48  32645.33\n",
              "\n",
              "[5 rows x 9 columns]"
            ]
          },
          "metadata": {},
          "execution_count": 12
        }
      ]
    },
    {
      "cell_type": "code",
      "metadata": {
        "colab": {
          "base_uri": "https://localhost:8080/"
        },
        "id": "x2urvjqNoF6D",
        "outputId": "e210546e-9d88-4014-9038-601ba69d2eb5"
      },
      "source": [
        "features_df.shape"
      ],
      "execution_count": 13,
      "outputs": [
        {
          "output_type": "execute_result",
          "data": {
            "text/plain": [
              "(69459, 9)"
            ]
          },
          "metadata": {},
          "execution_count": 13
        }
      ]
    },
    {
      "cell_type": "code",
      "metadata": {
        "colab": {
          "base_uri": "https://localhost:8080/"
        },
        "id": "f3ek51pWc41e",
        "outputId": "71813497-3c9a-42f9-e0f8-698bba9a5cc4"
      },
      "source": [
        "train_size = int(len(features_df) * 0.9)\n",
        "train_size"
      ],
      "execution_count": 14,
      "outputs": [
        {
          "output_type": "execute_result",
          "data": {
            "text/plain": [
              "62513"
            ]
          },
          "metadata": {},
          "execution_count": 14
        }
      ]
    },
    {
      "cell_type": "code",
      "metadata": {
        "colab": {
          "base_uri": "https://localhost:8080/"
        },
        "id": "ed4QdpvFntXm",
        "outputId": "beca642d-3192-4ea5-bb4e-456cd3c2810b"
      },
      "source": [
        "train_df, test_df = features_df[:train_size], features_df[train_size:]\n",
        "train_df.shape, test_df.shape"
      ],
      "execution_count": 15,
      "outputs": [
        {
          "output_type": "execute_result",
          "data": {
            "text/plain": [
              "((62513, 9), (6946, 9))"
            ]
          },
          "metadata": {},
          "execution_count": 15
        }
      ]
    },
    {
      "cell_type": "code",
      "metadata": {
        "id": "pEPwfDl-n-VC"
      },
      "source": [
        "scaler = MinMaxScaler(feature_range=(-1, 1))\n",
        "scaler = scaler.fit(train_df)"
      ],
      "execution_count": 16,
      "outputs": []
    },
    {
      "cell_type": "code",
      "metadata": {
        "id": "IskKIC_oooPI"
      },
      "source": [
        "train_df = pd.DataFrame(scaler.transform(train_df),\n",
        "                        index=train_df.index,\n",
        "                        columns=train_df.columns\n",
        "                        )"
      ],
      "execution_count": 18,
      "outputs": []
    },
    {
      "cell_type": "code",
      "metadata": {
        "id": "9bUqdc3fsIEQ"
      },
      "source": [
        "test_df = pd.DataFrame(scaler.transform(test_df),\n",
        "                        index=test_df.index,\n",
        "                        columns=test_df.columns\n",
        "                        )"
      ],
      "execution_count": 19,
      "outputs": []
    },
    {
      "cell_type": "code",
      "metadata": {
        "colab": {
          "base_uri": "https://localhost:8080/",
          "height": 204
        },
        "id": "v4T9DB19sx-t",
        "outputId": "10f910f8-6072-4250-f8ca-636e947969ff"
      },
      "source": [
        "train_df.head()"
      ],
      "execution_count": 20,
      "outputs": [
        {
          "output_type": "execute_result",
          "data": {
            "text/html": [
              "<div>\n",
              "<style scoped>\n",
              "    .dataframe tbody tr th:only-of-type {\n",
              "        vertical-align: middle;\n",
              "    }\n",
              "\n",
              "    .dataframe tbody tr th {\n",
              "        vertical-align: top;\n",
              "    }\n",
              "\n",
              "    .dataframe thead th {\n",
              "        text-align: right;\n",
              "    }\n",
              "</style>\n",
              "<table border=\"1\" class=\"dataframe\">\n",
              "  <thead>\n",
              "    <tr style=\"text-align: right;\">\n",
              "      <th></th>\n",
              "      <th>day_of_week</th>\n",
              "      <th>day_of_month</th>\n",
              "      <th>week_of_year</th>\n",
              "      <th>month</th>\n",
              "      <th>open</th>\n",
              "      <th>high</th>\n",
              "      <th>low</th>\n",
              "      <th>close_change</th>\n",
              "      <th>close</th>\n",
              "    </tr>\n",
              "  </thead>\n",
              "  <tbody>\n",
              "    <tr>\n",
              "      <th>0</th>\n",
              "      <td>0.0</td>\n",
              "      <td>-0.533333</td>\n",
              "      <td>-1.0</td>\n",
              "      <td>-1.0</td>\n",
              "      <td>-0.672339</td>\n",
              "      <td>-0.682781</td>\n",
              "      <td>-0.674752</td>\n",
              "      <td>-0.402540</td>\n",
              "      <td>-0.675418</td>\n",
              "    </tr>\n",
              "    <tr>\n",
              "      <th>1</th>\n",
              "      <td>0.0</td>\n",
              "      <td>-0.533333</td>\n",
              "      <td>-1.0</td>\n",
              "      <td>-1.0</td>\n",
              "      <td>-0.675417</td>\n",
              "      <td>-0.680206</td>\n",
              "      <td>-0.673276</td>\n",
              "      <td>-0.360188</td>\n",
              "      <td>-0.670040</td>\n",
              "    </tr>\n",
              "    <tr>\n",
              "      <th>2</th>\n",
              "      <td>0.0</td>\n",
              "      <td>-0.533333</td>\n",
              "      <td>-1.0</td>\n",
              "      <td>-1.0</td>\n",
              "      <td>-0.670040</td>\n",
              "      <td>-0.676443</td>\n",
              "      <td>-0.668362</td>\n",
              "      <td>-0.375223</td>\n",
              "      <td>-0.666571</td>\n",
              "    </tr>\n",
              "    <tr>\n",
              "      <th>3</th>\n",
              "      <td>0.0</td>\n",
              "      <td>-0.533333</td>\n",
              "      <td>-1.0</td>\n",
              "      <td>-1.0</td>\n",
              "      <td>-0.666571</td>\n",
              "      <td>-0.674840</td>\n",
              "      <td>-0.667062</td>\n",
              "      <td>-0.409982</td>\n",
              "      <td>-0.667516</td>\n",
              "    </tr>\n",
              "    <tr>\n",
              "      <th>4</th>\n",
              "      <td>0.0</td>\n",
              "      <td>-0.533333</td>\n",
              "      <td>-1.0</td>\n",
              "      <td>-1.0</td>\n",
              "      <td>-0.667663</td>\n",
              "      <td>-0.676470</td>\n",
              "      <td>-0.666662</td>\n",
              "      <td>-0.392721</td>\n",
              "      <td>-0.666269</td>\n",
              "    </tr>\n",
              "  </tbody>\n",
              "</table>\n",
              "</div>"
            ],
            "text/plain": [
              "   day_of_week  day_of_month  week_of_year  ...       low  close_change     close\n",
              "0          0.0     -0.533333          -1.0  ... -0.674752     -0.402540 -0.675418\n",
              "1          0.0     -0.533333          -1.0  ... -0.673276     -0.360188 -0.670040\n",
              "2          0.0     -0.533333          -1.0  ... -0.668362     -0.375223 -0.666571\n",
              "3          0.0     -0.533333          -1.0  ... -0.667062     -0.409982 -0.667516\n",
              "4          0.0     -0.533333          -1.0  ... -0.666662     -0.392721 -0.666269\n",
              "\n",
              "[5 rows x 9 columns]"
            ]
          },
          "metadata": {},
          "execution_count": 20
        }
      ]
    },
    {
      "cell_type": "code",
      "metadata": {
        "id": "AXEz2MLas5Qu"
      },
      "source": [
        "def create_sequences(input_data: pd.DataFrame, target_column, sequence_length):\n",
        "\n",
        "    sequences = []\n",
        "    data_size = len(input_data)\n",
        "    start_index = input_data.index[0]\n",
        "\n",
        "    for i in tqdm(range(data_size - sequence_length)):\n",
        "      \n",
        "        sequence = input_data[start_index + i:start_index + i + sequence_length]\n",
        "        label = input_data[target_column][start_index + i + sequence_length]\n",
        "\n",
        "        sequences.append((sequence, label))\n",
        "\n",
        "    return sequences\n",
        "  "
      ],
      "execution_count": 35,
      "outputs": []
    },
    {
      "cell_type": "code",
      "metadata": {
        "colab": {
          "base_uri": "https://localhost:8080/",
          "height": 81,
          "referenced_widgets": [
            "367c7832248b491d82c5e85c6ef3b9d0",
            "733812d5a333465998a2600c0d68fb1b",
            "ba29e6f1f1e84d8eab266288943e2b19",
            "afceb8d3daf144d9816020c579bdc193",
            "f980ca62ffe743c5b07f3292454e4277",
            "c84edb433cb44fd99a0e2b03bd4c747b",
            "9eb54e6045d0430cb25ec01eb8688f95",
            "f0c786a22eaa461197c8865bfcbd955d",
            "af5c4e9a38af4133ad2f4f020ec82179",
            "5d5b2b55f169470ca645fbbd86170a6c",
            "79e86ef5938d450f9497ddff134b25d4",
            "15ee63afb6f944cb98e332454be03b81",
            "bd183067b5f44f1090d0d5271338c777",
            "1a70ba69e5ef4606ba2d3e814eb97490",
            "646db0bcc37f4d1a9301dc916bac076b",
            "7172a82cca9647518d7f087affd0a287",
            "7b5655d89e0744dfa174cb54acaf3c42",
            "9f43b89cc68f4d998656be3ea6b04858",
            "4ea3fe4ffe0a445dbdb47717e121bb26",
            "f47474c7b01441508197e233f8700d40",
            "f040072b2698401394b3498b4ca024eb",
            "a16be823e5264669b80b0e1be944fcfa"
          ]
        },
        "id": "22-v7pFGvrHy",
        "outputId": "23ab2c19-542a-47e6-925f-b3754808ee49"
      },
      "source": [
        "SEQUENCE_LENGTH = 120\n",
        "\n",
        "train_sequences = create_sequences(train_df, 'close', SEQUENCE_LENGTH)\n",
        "test_sequences = create_sequences(test_df, 'close', SEQUENCE_LENGTH)"
      ],
      "execution_count": 44,
      "outputs": [
        {
          "output_type": "display_data",
          "data": {
            "application/vnd.jupyter.widget-view+json": {
              "model_id": "367c7832248b491d82c5e85c6ef3b9d0",
              "version_minor": 0,
              "version_major": 2
            },
            "text/plain": [
              "  0%|          | 0/62393 [00:00<?, ?it/s]"
            ]
          },
          "metadata": {}
        },
        {
          "output_type": "display_data",
          "data": {
            "application/vnd.jupyter.widget-view+json": {
              "model_id": "15ee63afb6f944cb98e332454be03b81",
              "version_minor": 0,
              "version_major": 2
            },
            "text/plain": [
              "  0%|          | 0/6826 [00:00<?, ?it/s]"
            ]
          },
          "metadata": {}
        }
      ]
    },
    {
      "cell_type": "code",
      "metadata": {
        "colab": {
          "base_uri": "https://localhost:8080/"
        },
        "id": "9uk1gfmdxL_7",
        "outputId": "0419b485-31d7-4f20-a933-d65a72c50f46"
      },
      "source": [
        "len(train_sequences), len(test_sequences)"
      ],
      "execution_count": 46,
      "outputs": [
        {
          "output_type": "execute_result",
          "data": {
            "text/plain": [
              "(62393, 6826)"
            ]
          },
          "metadata": {},
          "execution_count": 46
        }
      ]
    },
    {
      "cell_type": "markdown",
      "metadata": {
        "id": "naVWgPyq0Bzl"
      },
      "source": [
        "## Pytorch dataset"
      ]
    },
    {
      "cell_type": "code",
      "metadata": {
        "id": "5KmtlDpQxarM"
      },
      "source": [
        "class BTCDataset(Dataset):\n",
        "    \n",
        "    def __init__(self, sequences):\n",
        "        self.sequences = sequences\n",
        "\n",
        "    def __len__(self):\n",
        "        return len(this.sequences)\n",
        "\n",
        "    def __getitem__(self, idx):\n",
        "        sequence, label = self.sequences[idx]\n",
        "\n",
        "        return dict(sequence=torch.Tensor(sequence.to_numpy()),\n",
        "                    label=torch.tensor(label).float()\n",
        "              )"
      ],
      "execution_count": 48,
      "outputs": []
    },
    {
      "cell_type": "code",
      "metadata": {
        "id": "SJpd96v4xhlW"
      },
      "source": [
        "class BTCPriceDataModule(pl.LightningDataModule):\n",
        "    def __init__(self, train_sequences, test_sequences, batch_size=8):\n",
        "        \n",
        "        super().__init__()\n",
        "        self.train_sequences = train_sequences\n",
        "        self.test_sequences = test_sequences\n",
        "        self.batch_size = batch_size\n",
        "\n",
        "    def setup(self):\n",
        "        self.train_dataset = BTCDataset(self.train_sequences)\n",
        "        self.test_dataset = BTCDataset(self.test_sequences)\n",
        "\n",
        "    def train_dataloaler(self):\n",
        "        return DataLoader(self.train_dataset,\n",
        "                          batch_size=self.size,\n",
        "                          shuffle=False,\n",
        "                          num_workers=2)\n",
        "      \n",
        "    def val_dataloaler(self):\n",
        "        return DataLoader(self.test_dataset,\n",
        "                          batch_size=1,\n",
        "                          shuffle=False,\n",
        "                          num_workers=1)\n",
        "        \n",
        "    def test_dataloaler(self):\n",
        "        return DataLoader(self.test_dataset,\n",
        "                          batch_size=self.size,\n",
        "                          shuffle=False,\n",
        "                          num_workers=2)"
      ],
      "execution_count": 50,
      "outputs": []
    },
    {
      "cell_type": "code",
      "metadata": {
        "id": "DgiMeOXM2X5P"
      },
      "source": [
        "N_EPOCHS = 8\n",
        "BATCH_SIZE = 64\n",
        "\n",
        "data_module = BTCPriceDataModule(train_sequences, test_sequences, batch_size=BATCH)"
      ],
      "execution_count": null,
      "outputs": []
    }
  ]
}